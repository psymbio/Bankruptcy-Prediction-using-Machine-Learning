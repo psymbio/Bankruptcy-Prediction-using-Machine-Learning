{
 "cells": [
  {
   "cell_type": "code",
   "execution_count": 1,
   "metadata": {},
   "outputs": [
    {
     "name": "stderr",
     "output_type": "stream",
     "text": [
      "/home/vanilla_skies/.local/lib/python3.8/site-packages/pkg_resources/__init__.py:123: PkgResourcesDeprecationWarning: alpha is an invalid version and will not be supported in a future release\n",
      "  warnings.warn(\n",
      "/home/vanilla_skies/.local/lib/python3.8/site-packages/pkg_resources/__init__.py:123: PkgResourcesDeprecationWarning: 0.1.36ubuntu1 is an invalid version and will not be supported in a future release\n",
      "  warnings.warn(\n",
      "/home/vanilla_skies/.local/lib/python3.8/site-packages/pkg_resources/__init__.py:123: PkgResourcesDeprecationWarning: 0.23ubuntu1 is an invalid version and will not be supported in a future release\n",
      "  warnings.warn(\n"
     ]
    }
   ],
   "source": [
    "import os\n",
    "import string\n",
    "import random\n",
    "\n",
    "import numpy as np\n",
    "import pandas as pd\n",
    "\n",
    "from itertools import zip_longest\n",
    "from collections import Counter\n",
    "\n",
    "import math\n",
    "import json\n",
    "import re\n",
    "import statistics\n",
    "from scipy import stats\n",
    "\n",
    "from imblearn.over_sampling import SMOTE\n",
    "from imblearn.under_sampling import RandomUnderSampler\n",
    "\n",
    "from sklearn.preprocessing import LabelEncoder\n",
    "from sklearn.cluster import KMeans, DBSCAN\n",
    "from sklearn.mixture import GaussianMixture\n",
    "from sklearn.ensemble import RandomForestClassifier\n",
    "from sklearn.tree import DecisionTreeClassifier\n",
    "from sklearn.model_selection import train_test_split\n",
    "from sklearn.metrics import r2_score, classification_report, confusion_matrix, plot_confusion_matrix, roc_curve, auc, roc_auc_score, accuracy_score\n",
    "from sklearn.model_selection import RandomizedSearchCV, KFold, StratifiedKFold, cross_val_score, cross_val_predict\n",
    "import matplotlib.pyplot as plt\n",
    "\n",
    "import xgboost as xgb\n",
    "import lightgbm as lgb\n",
    "import matplotlib.pylab as plt\n",
    "%matplotlib inline\n",
    "from matplotlib.pylab import rcParams\n",
    "rcParams['figure.figsize'] = 12, 7\n",
    "\n",
    "from sklearn import decomposition\n",
    "from sklearn.impute import SimpleImputer\n",
    "from sklearn.preprocessing import StandardScaler\n",
    "from sklearn.decomposition import PCA\n",
    "import seaborn as sns\n",
    "import pickle\n",
    "from pprint import pprint"
   ]
  },
  {
   "cell_type": "code",
   "execution_count": 2,
   "metadata": {},
   "outputs": [],
   "source": [
    "DATA_PATH = \"bankruptcy/train\"\n",
    "TEST_PATH = \"bankruptcy/sample\""
   ]
  },
  {
   "cell_type": "code",
   "execution_count": 3,
   "metadata": {},
   "outputs": [],
   "source": [
    "# all data files from each path stored in each dictionary\n",
    "def data_reading(PATH):\n",
    "    data_files = {}\n",
    "    \n",
    "    for file_name in os.listdir(PATH):\n",
    "        print(\"Reading file: \", file_name)\n",
    "        \n",
    "        curr_table = pd.read_csv(os.path.join(PATH, file_name), index_col=['Id'], low_memory=False)\n",
    "        curr_table.replace('?', np.nan, inplace = True)\n",
    "        curr_table.iloc[:, :-1] = curr_table.iloc[:, :-1].astype(np.float64)\n",
    "        \n",
    "        # fill missing value with median\n",
    "        imp_mean = SimpleImputer(missing_values=np.nan, strategy='median')\n",
    "        curr_table.loc[:, curr_table.columns!='Bankrupt'] = imp_mean.fit_transform(curr_table.loc[:, curr_table.columns!='Bankrupt'])\n",
    "        \n",
    "        # save\n",
    "        data_files[file_name[:-4]] = curr_table\n",
    "    \n",
    "    print(\"Finished Reading for Folder: \", PATH)\n",
    "    return data_files"
   ]
  },
  {
   "cell_type": "code",
   "execution_count": 4,
   "metadata": {},
   "outputs": [],
   "source": [
    "def drop_numerical_outliers(df, z_thresh=3):\n",
    "    print('Before dropping outliers: ', df.shape)\n",
    "    # Constrains will contain `True` or `False` depending on if it is a value below the threshold.\n",
    "    constrains = df.iloc[:,:-1].select_dtypes(include=[np.number]) \\\n",
    "        .apply(lambda x: np.abs(stats.zscore(x)) < z_thresh) \\\n",
    "        .all(axis=1)\n",
    "    # print(constrains)\n",
    "    # Drop (inplace) values set to be rejected\n",
    "    df.drop(df.index[~constrains], inplace=True)\n",
    "    print('After dropping outliers: ', df.shape)\n",
    "    return df"
   ]
  },
  {
   "cell_type": "code",
   "execution_count": 5,
   "metadata": {},
   "outputs": [
    {
     "name": "stdout",
     "output_type": "stream",
     "text": [
      "Reading file:  5th_yr.csv\n",
      "Reading file:  1st_yr.csv\n",
      "Reading file:  4th_yr.csv\n",
      "Reading file:  3rd_yr.csv\n",
      "Reading file:  2nd_yr.csv\n",
      "Finished Reading for Folder:  bankruptcy/train\n",
      "Reading file:  5th_yr.csv\n",
      "Reading file:  1st_yr.csv\n",
      "Reading file:  4th_yr.csv\n",
      "Reading file:  3rd_yr.csv\n",
      "Reading file:  2nd_yr.csv\n",
      "Finished Reading for Folder:  bankruptcy/sample\n"
     ]
    }
   ],
   "source": [
    "train_files = data_reading(DATA_PATH)\n",
    "test_files = data_reading(TEST_PATH)"
   ]
  },
  {
   "cell_type": "markdown",
   "metadata": {},
   "source": [
    "# Training different models"
   ]
  },
  {
   "cell_type": "code",
   "execution_count": 6,
   "metadata": {},
   "outputs": [],
   "source": [
    "model_names = []\n",
    "model_scores = []"
   ]
  },
  {
   "cell_type": "code",
   "execution_count": 7,
   "metadata": {},
   "outputs": [],
   "source": [
    "def create_training_data(X, y, sampling_technique = 1, test_size = 0.33):\n",
    "    \"\"\"\n",
    "    This creates a training_testing data\n",
    "    Parameters\n",
    "    ----------\n",
    "    sampling_technique: int\n",
    "        sampling_technique = 1 then oversample using SMOTE\n",
    "        sampling_technique = 2 then undersample\n",
    "        sampling_technique = 3 then do nothing\n",
    "    Returns\n",
    "    -------\n",
    "    X, y, X_train, X_test, y_train, y_test : np.ndarray\n",
    "    \"\"\"\n",
    "    X = np.squeeze(X)\n",
    "    y = np.asarray(y)\n",
    "    \n",
    "    if type(y[0]) != int:\n",
    "        print(\"encode labels\")\n",
    "        le = LabelEncoder()    \n",
    "        y = le.fit_transform(y)\n",
    "        #exporting the departure encoder\n",
    "        output = open('label_encoder.pkl', 'wb')\n",
    "        pickle.dump(le, output)\n",
    "        output.close()\n",
    "        \n",
    "    if sampling_technique == 1:\n",
    "        oversample = SMOTE()\n",
    "        X, y = oversample.fit_resample(X, y)\n",
    "    elif sampling_technique == 2:\n",
    "        undersample = RandomUnderSampler()\n",
    "        X, y = undersample.fit_resample(X, y)\n",
    "    else:\n",
    "        pass\n",
    "    counter = Counter(y)\n",
    "    for k, v in counter.items():\n",
    "        per = v / len(y) * 100\n",
    "        print('Class={}, n={} ({})'.format(k, v, per))\n",
    "    print(type(X), X.shape)\n",
    "    X_train, X_test, y_train, y_test = train_test_split(X, y, test_size= test_size, random_state=42, stratify=y)\n",
    "    print(X_train.shape, X_test.shape, y_train.shape, y_test.shape)\n",
    "    return X, y, X_train, X_test, y_train, y_test"
   ]
  },
  {
   "cell_type": "code",
   "execution_count": 8,
   "metadata": {},
   "outputs": [],
   "source": [
    "def eval_model(model, model_name, X, y, X_train, X_test, y_train, y_test, encode = False, cv_10 = True, verbose = False, cv = 10):\n",
    "    \"\"\"\n",
    "    This evaluates a model\n",
    "    Parameters\n",
    "    ----------\n",
    "    model : model\n",
    "    model_name : string\n",
    "    Returns\n",
    "    -------\n",
    "    None\n",
    "    \"\"\"\n",
    "    \n",
    "    pkl_file = open('label_encoder.pkl', 'rb')\n",
    "    label_encoder = pickle.load(pkl_file) \n",
    "    pkl_file.close()\n",
    "    \n",
    "    label_encoder_dict = dict(zip(range(len(label_encoder.classes_)),label_encoder.classes_))\n",
    "\n",
    "    # first 10 fold cross validation\n",
    "    if cv_10 == True:\n",
    "        print('10 FOLD CV')\n",
    "        scores = cross_val_score(model, X, y, cv = cv)\n",
    "        print('all scores: ', scores)\n",
    "        print('scores mean: {} scores median: {}'.format(np.mean(scores), np.median(scores)))\n",
    "    \n",
    "    print('80-20 SPLIT')\n",
    "    model = model.fit(X_train, y_train)\n",
    "    \n",
    "    # global y_test, model_names, model_scores\n",
    "    score_of_the_model = model.score(X_test, y_test)\n",
    "    print('model score: {}'.format(score_of_the_model))\n",
    "    \n",
    "    model_names.append(model_name)\n",
    "    model_scores.append(score_of_the_model)\n",
    "    \n",
    "    y_pred = model.predict(X_test)\n",
    "    if verbose == True:\n",
    "        print('y_tests are: {}'.format(y_test))\n",
    "        print('y_pred are: {}'.format(y_pred))\n",
    "    \n",
    "    if encode == True:\n",
    "        y_test = np.argmax(y_test, axis=1)\n",
    "        y_pred = np.argmax(y_pred, axis=1)\n",
    "    \n",
    "    if verbose == True:\n",
    "        print('first 20 y_test values:  {}'.format(y_test[:20]))\n",
    "        print('first 20 y_pred values: {}'.format(y_pred[:20]))\n",
    "    print('r2 score: {}'.format(r2_score(y_test, y_pred)))\n",
    "    print('classification report: \\n {}'.format(classification_report(y_test, y_pred)))\n",
    "    confusion_matrix_curr = confusion_matrix(y_test, y_pred, labels=np.unique(y))\n",
    "    # plt.imshow(confusion_matrix_curr)\n",
    "    # plt.title('confusion matrix')\n",
    "    # plt.show()\n",
    "    # plt.figure()\n",
    "    \n",
    "    # y_pred_proba = model.predict_proba(X_test)[::,1]\n",
    "    # fpr, tpr, _ = roc_curve(y_test,  y_pred_proba)\n",
    "    \n",
    "    \n",
    "    if encode == False:\n",
    "        plot_confusion_matrix(model, X_test, y_test)  \n",
    "        plt.show()\n",
    "    else:\n",
    "        print('nothing to see here.')\n",
    "    \n",
    "    print(\"model: \" + str(model_name) + \"confusion matrix: \\n\", confusion_matrix_curr)\n",
    "    print(\"model: \" + str(model_name) + \" accuracy: \", accuracy_score(y_test, y_pred))\n",
    "    TN = confusion_matrix_curr[0][0]\n",
    "    FN = confusion_matrix_curr[1][0]\n",
    "    TP = confusion_matrix_curr[1][1]\n",
    "    FP = confusion_matrix_curr[0][1]\n",
    "    \n",
    "    try:\n",
    "        print(\"For model: \" + str(model_name) + \"\\n\")\n",
    "        print('True Negative ',TN, '\\nFalse Negative ', FN, '\\nTrue Positive', TP, '\\nFalse Positive ', FP)\n",
    "        accuracy = (TP+TN)/(TP+TN+FP+FN)\n",
    "        recall = TP/(TP+FN)\n",
    "        precision = TP/(TP+FP)\n",
    "        print('Accuracy:\\t',accuracy)\n",
    "        print('Precision:\\t',precision)\n",
    "        print('Recall:\\t',recall)\n",
    "        model_acc_recall_precision[model_name] = [accuracy, precision, recall]\n",
    "    except:\n",
    "        print(\"accuracy, precision, recall not calculated.\")\n",
    "    return model"
   ]
  },
  {
   "cell_type": "code",
   "execution_count": 9,
   "metadata": {},
   "outputs": [
    {
     "name": "stdout",
     "output_type": "stream",
     "text": [
      "Before dropping outliers:  (4818, 65)\n",
      "After dropping outliers:  (4472, 65)\n",
      "encode labels\n",
      "Class=0, n=4212 (50.0)\n",
      "Class=1, n=4212 (50.0)\n",
      "<class 'pandas.core.frame.DataFrame'> (8424, 64)\n",
      "(5896, 64) (2528, 64) (5896,) (2528,)\n"
     ]
    }
   ],
   "source": [
    "year = '5th_yr'\n",
    "data = train_files[year].copy()\n",
    "data = drop_numerical_outliers(data)\n",
    "y = data.loc[:,'Bankrupt']\n",
    "X = data.loc[:, data.columns!='Bankrupt']\n",
    "X, y, X_train, X_test, y_train, y_test = create_training_data(X, y.tolist(), 1, test_size = 0.30)"
   ]
  },
  {
   "cell_type": "code",
   "execution_count": 10,
   "metadata": {},
   "outputs": [
    {
     "name": "stdout",
     "output_type": "stream",
     "text": [
      "10 FOLD CV\n",
      "all scores:  [0.72241993 0.76512456 0.76393832 0.75207592 0.74346793 0.74109264\n",
      " 0.74228029 0.72446556 0.75653207 0.74109264]\n",
      "scores mean: 0.7452489835250758 scores median: 0.7428741092636579\n",
      "80-20 SPLIT\n",
      "model score: 0.7484177215189873\n",
      "r2 score: -0.006329113924050667\n",
      "classification report: \n",
      "               precision    recall  f1-score   support\n",
      "\n",
      "           0       0.69      0.89      0.78      1264\n",
      "           1       0.85      0.61      0.71      1264\n",
      "\n",
      "    accuracy                           0.75      2528\n",
      "   macro avg       0.77      0.75      0.74      2528\n",
      "weighted avg       0.77      0.75      0.74      2528\n",
      "\n"
     ]
    },
    {
     "name": "stderr",
     "output_type": "stream",
     "text": [
      "/home/vanilla_skies/.local/lib/python3.8/site-packages/sklearn/utils/deprecation.py:87: FutureWarning: Function plot_confusion_matrix is deprecated; Function `plot_confusion_matrix` is deprecated in 1.0 and will be removed in 1.2. Use one of the class methods: ConfusionMatrixDisplay.from_predictions or ConfusionMatrixDisplay.from_estimator.\n",
      "  warnings.warn(msg, category=FutureWarning)\n"
     ]
    },
    {
     "data": {
      "image/png": "[encoded data removed]",
      "text/plain": [
       "<Figure size 864x504 with 2 Axes>"
      ]
     },
     "metadata": {
      "needs_background": "light"
     },
     "output_type": "display_data"
    },
    {
     "name": "stdout",
     "output_type": "stream",
     "text": [
      "model: RandomForest_oversamplingconfusion matrix: \n",
      " [[1125  139]\n",
      " [ 497  767]]\n",
      "model: RandomForest_oversampling accuracy:  0.7484177215189873\n",
      "For model: RandomForest_oversampling\n",
      "\n",
      "True Negative  1125 \n",
      "False Negative  497 \n",
      "True Positive 767 \n",
      "False Positive  139\n",
      "Accuracy:\t 0.7484177215189873\n",
      "Precision:\t 0.8465783664459161\n",
      "Recall:\t 0.6068037974683544\n",
      "accuracy, precision, recall not calculated.\n"
     ]
    },
    {
     "data": {
      "text/plain": [
       "RandomForestClassifier(max_depth=2, random_state=0)"
      ]
     },
     "execution_count": 10,
     "metadata": {},
     "output_type": "execute_result"
    }
   ],
   "source": [
    "model = RandomForestClassifier(max_depth=2, random_state=0)\n",
    "eval_model(model, \"RandomForest_oversampling\", X, y, X_train, X_test, y_train, y_test)"
   ]
  },
  {
   "cell_type": "code",
   "execution_count": 11,
   "metadata": {},
   "outputs": [
    {
     "name": "stdout",
     "output_type": "stream",
     "text": [
      "10 FOLD CV\n",
      "all scores:  [0.69276394 0.77580071 0.79715302 0.76986951 0.76484561 0.77434679\n",
      " 0.76009501 0.75653207 0.76128266 0.76128266]\n",
      "scores mean: 0.7613971986711862 scores median: 0.763064133016627\n",
      "80-20 SPLIT\n",
      "model score: 0.7681962025316456\n",
      "r2 score: 0.07278481012658233\n",
      "classification report: \n",
      "               precision    recall  f1-score   support\n",
      "\n",
      "           0       0.77      0.77      0.77      1264\n",
      "           1       0.77      0.77      0.77      1264\n",
      "\n",
      "    accuracy                           0.77      2528\n",
      "   macro avg       0.77      0.77      0.77      2528\n",
      "weighted avg       0.77      0.77      0.77      2528\n",
      "\n"
     ]
    },
    {
     "name": "stderr",
     "output_type": "stream",
     "text": [
      "/home/vanilla_skies/.local/lib/python3.8/site-packages/sklearn/utils/deprecation.py:87: FutureWarning: Function plot_confusion_matrix is deprecated; Function `plot_confusion_matrix` is deprecated in 1.0 and will be removed in 1.2. Use one of the class methods: ConfusionMatrixDisplay.from_predictions or ConfusionMatrixDisplay.from_estimator.\n",
      "  warnings.warn(msg, category=FutureWarning)\n"
     ]
    },
    {
     "data": {
      "image/png": "[encoded data removed]",
      "text/plain": [
       "<Figure size 864x504 with 2 Axes>"
      ]
     },
     "metadata": {
      "needs_background": "light"
     },
     "output_type": "display_data"
    },
    {
     "name": "stdout",
     "output_type": "stream",
     "text": [
      "model: DecisionTree_oversamplingconfusion matrix: \n",
      " [[967 297]\n",
      " [289 975]]\n",
      "model: DecisionTree_oversampling accuracy:  0.7681962025316456\n",
      "For model: DecisionTree_oversampling\n",
      "\n",
      "True Negative  967 \n",
      "False Negative  289 \n",
      "True Positive 975 \n",
      "False Positive  297\n",
      "Accuracy:\t 0.7681962025316456\n",
      "Precision:\t 0.7665094339622641\n",
      "Recall:\t 0.7713607594936709\n",
      "accuracy, precision, recall not calculated.\n"
     ]
    },
    {
     "data": {
      "text/plain": [
       "DecisionTreeClassifier(max_depth=2, random_state=0)"
      ]
     },
     "execution_count": 11,
     "metadata": {},
     "output_type": "execute_result"
    }
   ],
   "source": [
    "model = DecisionTreeClassifier(random_state=0, max_depth=2)\n",
    "eval_model(model, \"DecisionTree_oversampling\", X, y, X_train, X_test, y_train, y_test)"
   ]
  },
  {
   "cell_type": "code",
   "execution_count": 12,
   "metadata": {},
   "outputs": [
    {
     "name": "stdout",
     "output_type": "stream",
     "text": [
      "10 FOLD CV\n",
      "all scores:  [0.83867141 0.89205219 0.91340451 0.886121   0.85748219 0.89429929\n",
      " 0.90736342 0.86342043 0.90973872 0.90023753]\n",
      "scores mean: 0.8862790678016246 scores median: 0.893175740977112\n",
      "80-20 SPLIT\n",
      "model score: 0.8761867088607594\n",
      "r2 score: 0.504746835443038\n",
      "classification report: \n",
      "               precision    recall  f1-score   support\n",
      "\n",
      "           0       0.88      0.87      0.88      1264\n",
      "           1       0.87      0.88      0.88      1264\n",
      "\n",
      "    accuracy                           0.88      2528\n",
      "   macro avg       0.88      0.88      0.88      2528\n",
      "weighted avg       0.88      0.88      0.88      2528\n",
      "\n"
     ]
    },
    {
     "name": "stderr",
     "output_type": "stream",
     "text": [
      "/home/vanilla_skies/.local/lib/python3.8/site-packages/sklearn/utils/deprecation.py:87: FutureWarning: Function plot_confusion_matrix is deprecated; Function `plot_confusion_matrix` is deprecated in 1.0 and will be removed in 1.2. Use one of the class methods: ConfusionMatrixDisplay.from_predictions or ConfusionMatrixDisplay.from_estimator.\n",
      "  warnings.warn(msg, category=FutureWarning)\n"
     ]
    },
    {
     "data": {
      "image/png": "[encoded data removed]",
      "text/plain": [
       "<Figure size 864x504 with 2 Axes>"
      ]
     },
     "metadata": {
      "needs_background": "light"
     },
     "output_type": "display_data"
    },
    {
     "name": "stdout",
     "output_type": "stream",
     "text": [
      "model: LGBM_oversamplingconfusion matrix: \n",
      " [[1103  161]\n",
      " [ 152 1112]]\n",
      "model: LGBM_oversampling accuracy:  0.8761867088607594\n",
      "For model: LGBM_oversampling\n",
      "\n",
      "True Negative  1103 \n",
      "False Negative  152 \n",
      "True Positive 1112 \n",
      "False Positive  161\n",
      "Accuracy:\t 0.8761867088607594\n",
      "Precision:\t 0.8735271013354281\n",
      "Recall:\t 0.879746835443038\n",
      "accuracy, precision, recall not calculated.\n"
     ]
    },
    {
     "data": {
      "text/plain": [
       "LGBMClassifier(max_depth=2, random_state=0)"
      ]
     },
     "execution_count": 12,
     "metadata": {},
     "output_type": "execute_result"
    }
   ],
   "source": [
    "model =  lgb.LGBMClassifier(random_state=0, max_depth=2)\n",
    "eval_model(model, \"LGBM_oversampling\", X, y, X_train, X_test, y_train, y_test)"
   ]
  },
  {
   "cell_type": "code",
   "execution_count": 13,
   "metadata": {},
   "outputs": [
    {
     "name": "stdout",
     "output_type": "stream",
     "text": [
      "10 FOLD CV\n",
      "all scores:  [0.89205219 0.93950178 0.95729537 0.95492289 0.93230404 0.94418052\n",
      " 0.95961995 0.93586698 0.95130641 0.95961995]\n",
      "scores mean: 0.9426670104225663 scores median: 0.9477434679334917\n",
      "80-20 SPLIT\n",
      "model score: 0.9343354430379747\n",
      "r2 score: 0.7373417721518987\n",
      "classification report: \n",
      "               precision    recall  f1-score   support\n",
      "\n",
      "           0       0.94      0.92      0.93      1264\n",
      "           1       0.92      0.95      0.94      1264\n",
      "\n",
      "    accuracy                           0.93      2528\n",
      "   macro avg       0.93      0.93      0.93      2528\n",
      "weighted avg       0.93      0.93      0.93      2528\n",
      "\n"
     ]
    },
    {
     "name": "stderr",
     "output_type": "stream",
     "text": [
      "/home/vanilla_skies/.local/lib/python3.8/site-packages/sklearn/utils/deprecation.py:87: FutureWarning: Function plot_confusion_matrix is deprecated; Function `plot_confusion_matrix` is deprecated in 1.0 and will be removed in 1.2. Use one of the class methods: ConfusionMatrixDisplay.from_predictions or ConfusionMatrixDisplay.from_estimator.\n",
      "  warnings.warn(msg, category=FutureWarning)\n"
     ]
    },
    {
     "data": {
      "image/png": "[encoded data removed]",
      "text/plain": [
       "<Figure size 864x504 with 2 Axes>"
      ]
     },
     "metadata": {
      "needs_background": "light"
     },
     "output_type": "display_data"
    },
    {
     "name": "stdout",
     "output_type": "stream",
     "text": [
      "model: XGBoost_oversamplingconfusion matrix: \n",
      " [[1167   97]\n",
      " [  69 1195]]\n",
      "model: XGBoost_oversampling accuracy:  0.9343354430379747\n",
      "For model: XGBoost_oversampling\n",
      "\n",
      "True Negative  1167 \n",
      "False Negative  69 \n",
      "True Positive 1195 \n",
      "False Positive  97\n",
      "Accuracy:\t 0.9343354430379747\n",
      "Precision:\t 0.9249226006191951\n",
      "Recall:\t 0.9454113924050633\n",
      "accuracy, precision, recall not calculated.\n"
     ]
    },
    {
     "data": {
      "text/plain": [
       "XGBClassifier(base_score=0.5, booster='gbtree', callbacks=None,\n",
       "              colsample_bylevel=1, colsample_bynode=1, colsample_bytree=1,\n",
       "              early_stopping_rounds=None, enable_categorical=False,\n",
       "              eval_metric=None, gamma=0, gpu_id=-1, grow_policy='depthwise',\n",
       "              importance_type=None, interaction_constraints='',\n",
       "              learning_rate=0.300000012, max_bin=256, max_cat_to_onehot=4,\n",
       "              max_delta_step=0, max_depth=2, max_leaves=0, min_child_weight=1,\n",
       "              missing=nan, monotone_constraints='()', n_estimators=100,\n",
       "              n_jobs=0, num_parallel_tree=1, predictor='auto', random_state=0,\n",
       "              reg_alpha=0, reg_lambda=1, ...)"
      ]
     },
     "execution_count": 13,
     "metadata": {},
     "output_type": "execute_result"
    }
   ],
   "source": [
    "model =  xgb.XGBClassifier(random_state=0, max_depth=2)\n",
    "eval_model(model, \"XGBoost_oversampling\", X, y, X_train, X_test, y_train, y_test)"
   ]
  },
  {
   "cell_type": "raw",
   "metadata": {},
   "source": [
    "results_dict = {}\n",
    "for i in range(0, len(model_names)):\n",
    "    results_dict[model_names[i]] = model_scores[i]\n",
    "print(results_dict)\n",
    "results_df = pd.DataFrame([results_dict])\n",
    "results_df.plot.bar()"
   ]
  },
  {
   "cell_type": "code",
   "execution_count": 14,
   "metadata": {},
   "outputs": [
    {
     "data": {
      "text/plain": [
       "<AxesSubplot:xlabel='model_names'>"
      ]
     },
     "execution_count": 14,
     "metadata": {},
     "output_type": "execute_result"
    },
    {
     "data": {
      "image/png": "[encoded data removed]",
      "text/plain": [
       "<Figure size 864x504 with 1 Axes>"
      ]
     },
     "metadata": {
      "needs_background": "light"
     },
     "output_type": "display_data"
    }
   ],
   "source": [
    "results_dict = {\"model_names\": model_names, \"model_scores\": model_scores}\n",
    "results_df = pd.DataFrame.from_dict(results_dict)\n",
    "results_df = results_df.set_index('model_names')\n",
    "results_df.plot.bar()"
   ]
  },
  {
   "cell_type": "code",
   "execution_count": 15,
   "metadata": {},
   "outputs": [
    {
     "data": {
      "text/html": [
       "<div>\n",
       "<style scoped>\n",
       "    .dataframe tbody tr th:only-of-type {\n",
       "        vertical-align: middle;\n",
       "    }\n",
       "\n",
       "    .dataframe tbody tr th {\n",
       "        vertical-align: top;\n",
       "    }\n",
       "\n",
       "    .dataframe thead th {\n",
       "        text-align: right;\n",
       "    }\n",
       "</style>\n",
       "<table border=\"1\" class=\"dataframe\">\n",
       "  <thead>\n",
       "    <tr style=\"text-align: right;\">\n",
       "      <th></th>\n",
       "      <th>model_scores</th>\n",
       "    </tr>\n",
       "    <tr>\n",
       "      <th>model_names</th>\n",
       "      <th></th>\n",
       "    </tr>\n",
       "  </thead>\n",
       "  <tbody>\n",
       "    <tr>\n",
       "      <th>RandomForest_oversampling</th>\n",
       "      <td>0.748418</td>\n",
       "    </tr>\n",
       "    <tr>\n",
       "      <th>DecisionTree_oversampling</th>\n",
       "      <td>0.768196</td>\n",
       "    </tr>\n",
       "    <tr>\n",
       "      <th>LGBM_oversampling</th>\n",
       "      <td>0.876187</td>\n",
       "    </tr>\n",
       "    <tr>\n",
       "      <th>XGBoost_oversampling</th>\n",
       "      <td>0.934335</td>\n",
       "    </tr>\n",
       "  </tbody>\n",
       "</table>\n",
       "</div>"
      ],
      "text/plain": [
       "                           model_scores\n",
       "model_names                            \n",
       "RandomForest_oversampling      0.748418\n",
       "DecisionTree_oversampling      0.768196\n",
       "LGBM_oversampling              0.876187\n",
       "XGBoost_oversampling           0.934335"
      ]
     },
     "execution_count": 15,
     "metadata": {},
     "output_type": "execute_result"
    }
   ],
   "source": [
    "results_df"
   ]
  },
  {
   "cell_type": "code",
   "execution_count": 16,
   "metadata": {},
   "outputs": [
    {
     "data": {
      "text/plain": [
       "XGBClassifier(base_score=0.5, booster='gbtree', callbacks=None,\n",
       "              colsample_bylevel=1, colsample_bynode=1, colsample_bytree=1,\n",
       "              early_stopping_rounds=None, enable_categorical=False,\n",
       "              eval_metric=None, gamma=0, gpu_id=-1, grow_policy='depthwise',\n",
       "              importance_type=None, interaction_constraints='',\n",
       "              learning_rate=0.300000012, max_bin=256, max_cat_to_onehot=4,\n",
       "              max_delta_step=0, max_depth=2, max_leaves=0, min_child_weight=1,\n",
       "              missing=nan, monotone_constraints='()', n_estimators=100,\n",
       "              n_jobs=0, num_parallel_tree=1, predictor='auto', random_state=0,\n",
       "              reg_alpha=0, reg_lambda=1, ...)"
      ]
     },
     "execution_count": 16,
     "metadata": {},
     "output_type": "execute_result"
    }
   ],
   "source": [
    "model_classifier = xgb.XGBClassifier(random_state=0, max_depth=2)\n",
    "model_classifier.fit(X, y)"
   ]
  },
  {
   "cell_type": "code",
   "execution_count": 17,
   "metadata": {},
   "outputs": [],
   "source": [
    "test_data = test_files[year].copy()"
   ]
  },
  {
   "cell_type": "code",
   "execution_count": 18,
   "metadata": {},
   "outputs": [
    {
     "data": {
      "text/plain": [
       "array([0, 0, 0, 0, 0, 0, 0, 0, 0, 0, 0, 0, 0, 0, 1, 0, 0, 0, 0, 0, 1, 0,\n",
       "       0, 1, 0, 0, 0, 0, 0, 0, 0, 1, 0, 1, 0, 0, 0, 0, 0, 0, 0, 0, 1, 0,\n",
       "       0, 0, 0, 0, 0, 0, 0, 0, 0, 0, 0, 0, 0, 0, 0, 0, 0, 0, 0, 0, 1, 0,\n",
       "       0, 0, 0, 1, 1, 0, 0, 0, 0, 0, 0, 0, 1, 0, 0, 0, 0, 0, 0, 0, 0, 0,\n",
       "       0, 0, 0, 0, 0, 0, 0, 0, 0, 0, 0, 1, 0, 0, 0, 0, 0, 0, 0, 0, 0, 0,\n",
       "       1, 0, 1, 0, 0, 0, 0, 0, 0, 1, 0, 0, 1, 0, 1, 1, 0, 0, 0, 0, 1, 0,\n",
       "       0, 0, 0, 1, 0, 0, 0, 0, 0, 0, 0, 0, 0, 0, 0, 0, 0, 0, 0, 0, 0, 0,\n",
       "       0, 0, 0, 0, 0, 1, 0, 1, 1, 0, 0, 0, 1, 0, 0, 0, 0, 0, 0, 0, 1, 0,\n",
       "       1, 0, 0, 0, 0, 0, 0, 0, 0, 0, 1, 0, 0, 0, 0, 0, 0, 0, 0, 0, 0, 0,\n",
       "       0, 0, 0, 0, 0, 0, 0, 1, 0, 0, 1, 1, 0, 0, 0, 0, 0, 0, 0, 0, 0, 1,\n",
       "       0, 0, 0, 0, 0, 0, 0, 0, 0, 0, 0, 1, 0, 1, 0, 1, 0, 0, 0, 0, 0, 0,\n",
       "       0, 0, 0, 0, 0, 0, 0, 0, 0, 0, 0, 0, 0, 0, 0, 0, 0, 0, 0, 0, 0, 0,\n",
       "       0, 0, 0, 0, 0, 0, 0, 0, 0, 0, 0, 0, 0, 0, 0, 0, 0, 0, 0, 0, 1, 0,\n",
       "       0, 0, 0, 1, 0, 0, 1, 1, 0, 0, 0, 0, 0, 0, 0, 0, 0, 0, 0, 0, 0, 0,\n",
       "       0, 0, 1, 0, 0, 0, 0, 0, 0, 0, 0, 0, 0, 0, 0, 0, 0, 0, 0, 0, 0, 0,\n",
       "       0, 0, 0, 0, 0, 0, 0, 0, 1, 1, 0, 0, 0, 0, 0, 0, 0, 0, 0, 1, 0, 0,\n",
       "       0, 0, 0, 1, 0, 0, 0, 0, 0, 1, 0, 1, 0, 0, 0, 0, 0, 0, 0, 0, 0, 0,\n",
       "       0, 1, 0, 0, 0, 0, 0, 0, 0, 0, 0, 0, 0, 0, 0, 0, 0, 0, 0, 0, 0, 0,\n",
       "       1, 0, 0, 0, 0, 0, 0, 0, 0, 0, 0, 1, 0, 0, 0, 0, 1, 0, 0, 0, 0, 1,\n",
       "       1, 0, 0, 0, 1, 0, 0, 0, 0, 1, 0, 0, 1, 0, 0, 0, 0, 1, 0, 0, 0, 0,\n",
       "       0, 0, 1, 0, 0, 1, 0, 0, 0, 0, 0, 0, 0, 0, 0, 1, 0, 0, 0, 0, 0, 0,\n",
       "       0, 0, 0, 0, 0, 0, 0, 0, 0, 0, 0, 0, 0, 1, 1, 0, 0, 1, 0, 0])"
      ]
     },
     "execution_count": 18,
     "metadata": {},
     "output_type": "execute_result"
    }
   ],
   "source": [
    "model_classifier.predict(test_data)"
   ]
  },
  {
   "cell_type": "markdown",
   "metadata": {},
   "source": [
    "# Create a model that shows how close a bank is to Bankruptcy"
   ]
  },
  {
   "cell_type": "code",
   "execution_count": 19,
   "metadata": {},
   "outputs": [
    {
     "data": {
      "text/plain": [
       "XGBRegressor(base_score=0.5, booster='gbtree', callbacks=None,\n",
       "             colsample_bylevel=1, colsample_bynode=1, colsample_bytree=1,\n",
       "             early_stopping_rounds=None, enable_categorical=False,\n",
       "             eval_metric=None, gamma=0, gpu_id=-1, grow_policy='depthwise',\n",
       "             importance_type=None, interaction_constraints='',\n",
       "             learning_rate=0.300000012, max_bin=256, max_cat_to_onehot=4,\n",
       "             max_delta_step=0, max_depth=2, max_leaves=0, min_child_weight=1,\n",
       "             missing=nan, monotone_constraints='()', n_estimators=100, n_jobs=0,\n",
       "             num_parallel_tree=1, predictor='auto', random_state=0, reg_alpha=0,\n",
       "             reg_lambda=1, ...)"
      ]
     },
     "execution_count": 19,
     "metadata": {},
     "output_type": "execute_result"
    }
   ],
   "source": [
    "model_regressor = xgb.XGBRegressor(random_state=0, max_depth=2)\n",
    "model_regressor.fit(X, y)"
   ]
  },
  {
   "cell_type": "code",
   "execution_count": 20,
   "metadata": {},
   "outputs": [],
   "source": [
    "def normalize(arr, t_min, t_max):\n",
    "    norm_arr = []\n",
    "    diff = t_max - t_min\n",
    "    diff_arr = max(arr) - min(arr)\n",
    "    for i in arr:\n",
    "        temp = (((i - min(arr))*diff)/diff_arr) + t_min\n",
    "        norm_arr.append(temp)\n",
    "    return norm_arr\n",
    "\n",
    "normalized_results = np.array(normalize(model_regressor.predict(test_data), 0, 1))\n",
    "normalized_results = normalized_results * 100"
   ]
  },
  {
   "cell_type": "code",
   "execution_count": 21,
   "metadata": {},
   "outputs": [
    {
     "name": "stdout",
     "output_type": "stream",
     "text": [
      "[ 83.93616056  84.61426091  89.26385212  58.23829288  62.69001384\n",
      "  47.47651639  94.38160838  72.40743563  69.72858775  55.87889909\n",
      " 100.          72.1724797   68.92570532  86.16584863  48.05683332\n",
      "  84.358326    63.78425995  80.13527584  77.99596861  60.59220216\n",
      "  78.65241352  56.36250724  60.69876678  79.83740011  66.31954316\n",
      "  63.34440795  66.54479739  60.35007484  48.4584094   54.95191962\n",
      "  66.70115924  64.86433455  67.81560082  72.5853202   51.29175672\n",
      "  70.2926053   66.18976038  51.13838758  71.32087468  44.72877613\n",
      "  48.32912327  85.54880994  79.22249357  60.70452957  65.39303036\n",
      "  76.35648327  76.52390404  66.89777503  86.40954723  74.92017715\n",
      "  87.01089879  83.88814868  78.78498351  74.36178539  92.9091071\n",
      "  55.23746913  51.66065269  76.94758511  57.73359444  64.30032128]\n"
     ]
    }
   ],
   "source": [
    "bankrupt_index = np.where(model_classifier.predict(test_data) == 1)\n",
    "print(normalized_results[bankrupt_index])"
   ]
  },
  {
   "cell_type": "code",
   "execution_count": 22,
   "metadata": {},
   "outputs": [
    {
     "name": "stdout",
     "output_type": "stream",
     "text": [
      "Before dropping outliers:  (5744, 65)\n",
      "After dropping outliers:  (5454, 65)\n",
      "encode labels\n",
      "Class=0, n=5259 (50.0)\n",
      "Class=1, n=5259 (50.0)\n",
      "<class 'pandas.core.frame.DataFrame'> (10518, 64)\n",
      "(7362, 64) (3156, 64) (7362,) (3156,)\n",
      "10 FOLD CV\n",
      "all scores:  [0.91825095 0.94961977 0.95722433 0.94106464 0.94486692 0.95627376\n",
      " 0.96577947 0.9648289  0.95718363 0.94671741]\n",
      "scores mean: 0.9501809791869412 scores median: 0.9529467680608366\n",
      "80-20 SPLIT\n",
      "model score: 0.9565906210392903\n",
      "r2 score: 0.826362484157161\n",
      "classification report: \n",
      "               precision    recall  f1-score   support\n",
      "\n",
      "           0       0.97      0.95      0.96      1578\n",
      "           1       0.95      0.97      0.96      1578\n",
      "\n",
      "    accuracy                           0.96      3156\n",
      "   macro avg       0.96      0.96      0.96      3156\n",
      "weighted avg       0.96      0.96      0.96      3156\n",
      "\n"
     ]
    },
    {
     "name": "stderr",
     "output_type": "stream",
     "text": [
      "/home/vanilla_skies/.local/lib/python3.8/site-packages/sklearn/utils/deprecation.py:87: FutureWarning: Function plot_confusion_matrix is deprecated; Function `plot_confusion_matrix` is deprecated in 1.0 and will be removed in 1.2. Use one of the class methods: ConfusionMatrixDisplay.from_predictions or ConfusionMatrixDisplay.from_estimator.\n",
      "  warnings.warn(msg, category=FutureWarning)\n"
     ]
    },
    {
     "data": {
      "image/png": "[encoded data removed]",
      "text/plain": [
       "<Figure size 864x504 with 2 Axes>"
      ]
     },
     "metadata": {
      "needs_background": "light"
     },
     "output_type": "display_data"
    },
    {
     "name": "stdout",
     "output_type": "stream",
     "text": [
      "model: XGBoost_oversampling_1st_yrconfusion matrix: \n",
      " [[1493   85]\n",
      " [  52 1526]]\n",
      "model: XGBoost_oversampling_1st_yr accuracy:  0.9565906210392903\n",
      "For model: XGBoost_oversampling_1st_yr\n",
      "\n",
      "True Negative  1493 \n",
      "False Negative  52 \n",
      "True Positive 1526 \n",
      "False Positive  85\n",
      "Accuracy:\t 0.9565906210392903\n",
      "Precision:\t 0.9472377405338299\n",
      "Recall:\t 0.9670468948035488\n",
      "accuracy, precision, recall not calculated.\n",
      "Before dropping outliers:  (8314, 65)\n",
      "After dropping outliers:  (8016, 65)\n",
      "encode labels\n",
      "Class=0, n=7729 (50.0)\n",
      "Class=1, n=7729 (50.0)\n",
      "<class 'pandas.core.frame.DataFrame'> (15458, 64)\n",
      "(10820, 64) (4638, 64) (10820,) (4638,)\n",
      "10 FOLD CV\n",
      "all scores:  [0.89521345 0.95084088 0.93531695 0.92949547 0.92820181 0.94243208\n",
      " 0.93467012 0.92884864 0.92686084 0.94368932]\n",
      "scores mean: 0.9315569566728211 scores median: 0.9320827943078913\n",
      "80-20 SPLIT\n",
      "model score: 0.9346701164294955\n",
      "r2 score: 0.738680465717982\n",
      "classification report: \n",
      "               precision    recall  f1-score   support\n",
      "\n",
      "           0       0.94      0.93      0.93      2319\n",
      "           1       0.93      0.94      0.94      2319\n",
      "\n",
      "    accuracy                           0.93      4638\n",
      "   macro avg       0.93      0.93      0.93      4638\n",
      "weighted avg       0.93      0.93      0.93      4638\n",
      "\n"
     ]
    },
    {
     "name": "stderr",
     "output_type": "stream",
     "text": [
      "/home/vanilla_skies/.local/lib/python3.8/site-packages/sklearn/utils/deprecation.py:87: FutureWarning: Function plot_confusion_matrix is deprecated; Function `plot_confusion_matrix` is deprecated in 1.0 and will be removed in 1.2. Use one of the class methods: ConfusionMatrixDisplay.from_predictions or ConfusionMatrixDisplay.from_estimator.\n",
      "  warnings.warn(msg, category=FutureWarning)\n"
     ]
    },
    {
     "data": {
      "image/png": "[encoded data removed]",
      "text/plain": [
       "<Figure size 864x504 with 2 Axes>"
      ]
     },
     "metadata": {
      "needs_background": "light"
     },
     "output_type": "display_data"
    },
    {
     "name": "stdout",
     "output_type": "stream",
     "text": [
      "model: XGBoost_oversampling_2nd_yrconfusion matrix: \n",
      " [[2150  169]\n",
      " [ 134 2185]]\n",
      "model: XGBoost_oversampling_2nd_yr accuracy:  0.9346701164294955\n",
      "For model: XGBoost_oversampling_2nd_yr\n",
      "\n",
      "True Negative  2150 \n",
      "False Negative  134 \n",
      "True Positive 2185 \n",
      "False Positive  169\n",
      "Accuracy:\t 0.9346701164294955\n",
      "Precision:\t 0.9282073067119796\n",
      "Recall:\t 0.9422164726175075\n",
      "accuracy, precision, recall not calculated.\n",
      "Before dropping outliers:  (8579, 65)\n",
      "After dropping outliers:  (8189, 65)\n",
      "encode labels\n",
      "Class=0, n=7836 (50.0)\n",
      "Class=1, n=7836 (50.0)\n",
      "<class 'pandas.core.frame.DataFrame'> (15672, 64)\n",
      "(10970, 64) (4702, 64) (10970,) (4702,)\n",
      "10 FOLD CV\n",
      "all scores:  [0.87181122 0.92346939 0.92980217 0.93171666 0.92022974 0.92150606\n",
      " 0.93044033 0.92533504 0.92469687 0.91703893]\n",
      "scores mean: 0.9196046406756704 scores median: 0.9240831303804227\n",
      "80-20 SPLIT\n",
      "model score: 0.9176945980433858\n",
      "r2 score: 0.6707783921735432\n",
      "classification report: \n",
      "               precision    recall  f1-score   support\n",
      "\n",
      "           0       0.93      0.90      0.92      2351\n",
      "           1       0.91      0.93      0.92      2351\n",
      "\n",
      "    accuracy                           0.92      4702\n",
      "   macro avg       0.92      0.92      0.92      4702\n",
      "weighted avg       0.92      0.92      0.92      4702\n",
      "\n"
     ]
    },
    {
     "name": "stderr",
     "output_type": "stream",
     "text": [
      "/home/vanilla_skies/.local/lib/python3.8/site-packages/sklearn/utils/deprecation.py:87: FutureWarning: Function plot_confusion_matrix is deprecated; Function `plot_confusion_matrix` is deprecated in 1.0 and will be removed in 1.2. Use one of the class methods: ConfusionMatrixDisplay.from_predictions or ConfusionMatrixDisplay.from_estimator.\n",
      "  warnings.warn(msg, category=FutureWarning)\n"
     ]
    },
    {
     "data": {
      "image/png": "[encoded data removed]",
      "text/plain": [
       "<Figure size 864x504 with 2 Axes>"
      ]
     },
     "metadata": {
      "needs_background": "light"
     },
     "output_type": "display_data"
    },
    {
     "name": "stdout",
     "output_type": "stream",
     "text": [
      "model: XGBoost_oversampling_3rd_yrconfusion matrix: \n",
      " [[2122  229]\n",
      " [ 158 2193]]\n",
      "model: XGBoost_oversampling_3rd_yr accuracy:  0.9176945980433858\n",
      "For model: XGBoost_oversampling_3rd_yr\n",
      "\n",
      "True Negative  2122 \n",
      "False Negative  158 \n",
      "True Positive 2193 \n",
      "False Positive  229\n",
      "Accuracy:\t 0.9176945980433858\n",
      "Precision:\t 0.9054500412881916\n",
      "Recall:\t 0.9327945555082944\n",
      "accuracy, precision, recall not calculated.\n",
      "Before dropping outliers:  (7995, 65)\n",
      "After dropping outliers:  (7512, 65)\n",
      "encode labels\n",
      "Class=0, n=7156 (50.0)\n",
      "Class=1, n=7156 (50.0)\n",
      "<class 'pandas.core.frame.DataFrame'> (14312, 64)\n",
      "(10018, 64) (4294, 64) (10018,) (4294,)\n",
      "10 FOLD CV\n",
      "all scores:  [0.8575419  0.91201117 0.93361286 0.92941999 0.92103424 0.9245283\n",
      " 0.93221523 0.92732355 0.93151642 0.92872117]\n",
      "scores mean: 0.9197924840620109 scores median: 0.9280223619846262\n",
      "80-20 SPLIT\n",
      "model score: 0.9147647880763856\n",
      "r2 score: 0.6590591523055427\n",
      "classification report: \n",
      "               precision    recall  f1-score   support\n",
      "\n",
      "           0       0.93      0.90      0.91      2147\n",
      "           1       0.90      0.93      0.92      2147\n",
      "\n",
      "    accuracy                           0.91      4294\n",
      "   macro avg       0.92      0.91      0.91      4294\n",
      "weighted avg       0.92      0.91      0.91      4294\n",
      "\n"
     ]
    },
    {
     "name": "stderr",
     "output_type": "stream",
     "text": [
      "/home/vanilla_skies/.local/lib/python3.8/site-packages/sklearn/utils/deprecation.py:87: FutureWarning: Function plot_confusion_matrix is deprecated; Function `plot_confusion_matrix` is deprecated in 1.0 and will be removed in 1.2. Use one of the class methods: ConfusionMatrixDisplay.from_predictions or ConfusionMatrixDisplay.from_estimator.\n",
      "  warnings.warn(msg, category=FutureWarning)\n"
     ]
    },
    {
     "data": {
      "image/png": "[encoded data removed]",
      "text/plain": [
       "<Figure size 864x504 with 2 Axes>"
      ]
     },
     "metadata": {
      "needs_background": "light"
     },
     "output_type": "display_data"
    },
    {
     "name": "stdout",
     "output_type": "stream",
     "text": [
      "model: XGBoost_oversampling_4th_yrconfusion matrix: \n",
      " [[1932  215]\n",
      " [ 151 1996]]\n",
      "model: XGBoost_oversampling_4th_yr accuracy:  0.9147647880763856\n",
      "For model: XGBoost_oversampling_4th_yr\n",
      "\n",
      "True Negative  1932 \n",
      "False Negative  151 \n",
      "True Positive 1996 \n",
      "False Positive  215\n",
      "Accuracy:\t 0.9147647880763856\n",
      "Precision:\t 0.9027589326096789\n",
      "Recall:\t 0.9296693060083838\n",
      "accuracy, precision, recall not calculated.\n",
      "Before dropping outliers:  (4818, 65)\n",
      "After dropping outliers:  (4472, 65)\n",
      "encode labels\n",
      "Class=0, n=4212 (50.0)\n",
      "Class=1, n=4212 (50.0)\n",
      "<class 'pandas.core.frame.DataFrame'> (8424, 64)\n",
      "(5896, 64) (2528, 64) (5896,) (2528,)\n",
      "10 FOLD CV\n",
      "all scores:  [0.89323843 0.94661922 0.95017794 0.9430605  0.93111639 0.94893112\n",
      " 0.94893112 0.92992874 0.93230404 0.95130641]\n",
      "scores mean: 0.9375613900136093 scores median: 0.9448398576512456\n",
      "80-20 SPLIT\n",
      "model score: 0.932753164556962\n",
      "r2 score: 0.7310126582278481\n",
      "classification report: \n",
      "               precision    recall  f1-score   support\n",
      "\n",
      "           0       0.94      0.92      0.93      1264\n",
      "           1       0.92      0.95      0.93      1264\n",
      "\n",
      "    accuracy                           0.93      2528\n",
      "   macro avg       0.93      0.93      0.93      2528\n",
      "weighted avg       0.93      0.93      0.93      2528\n",
      "\n"
     ]
    },
    {
     "name": "stderr",
     "output_type": "stream",
     "text": [
      "/home/vanilla_skies/.local/lib/python3.8/site-packages/sklearn/utils/deprecation.py:87: FutureWarning: Function plot_confusion_matrix is deprecated; Function `plot_confusion_matrix` is deprecated in 1.0 and will be removed in 1.2. Use one of the class methods: ConfusionMatrixDisplay.from_predictions or ConfusionMatrixDisplay.from_estimator.\n",
      "  warnings.warn(msg, category=FutureWarning)\n"
     ]
    },
    {
     "data": {
      "image/png": "[encoded data removed]",
      "text/plain": [
       "<Figure size 864x504 with 2 Axes>"
      ]
     },
     "metadata": {
      "needs_background": "light"
     },
     "output_type": "display_data"
    },
    {
     "name": "stdout",
     "output_type": "stream",
     "text": [
      "model: XGBoost_oversampling_5th_yrconfusion matrix: \n",
      " [[1163  101]\n",
      " [  69 1195]]\n",
      "model: XGBoost_oversampling_5th_yr accuracy:  0.932753164556962\n",
      "For model: XGBoost_oversampling_5th_yr\n",
      "\n",
      "True Negative  1163 \n",
      "False Negative  69 \n",
      "True Positive 1195 \n",
      "False Positive  101\n",
      "Accuracy:\t 0.932753164556962\n",
      "Precision:\t 0.9220679012345679\n",
      "Recall:\t 0.9454113924050633\n",
      "accuracy, precision, recall not calculated.\n"
     ]
    }
   ],
   "source": [
    "def avg_accuracy_of_all_5_years():\n",
    "    pass\n",
    "years = ['1st_yr', '2nd_yr', '3rd_yr', '4th_yr', '5th_yr']\n",
    "for year in years:\n",
    "    data = train_files[year].copy()\n",
    "    data = drop_numerical_outliers(data)\n",
    "    y = data.loc[:,'Bankrupt']\n",
    "    X = data.loc[:, data.columns!='Bankrupt']\n",
    "    X, y, X_train, X_test, y_train, y_test = create_training_data(X, y.tolist(), 1, test_size = 0.30)\n",
    "    model =  xgb.XGBClassifier(random_state=0, max_depth=2)\n",
    "    eval_model(model, \"XGBoost_oversampling_\" + year, X, y, X_train, X_test, y_train, y_test)"
   ]
  },
  {
   "cell_type": "code",
   "execution_count": 23,
   "metadata": {},
   "outputs": [
    {
     "name": "stdout",
     "output_type": "stream",
     "text": [
      "0.9565906210392903\n",
      "0.9346701164294955\n",
      "0.9176945980433858\n",
      "0.9147647880763856\n",
      "0.932753164556962\n",
      "avg accuracy of XGBOOST oversampling for all years is 0.9312946576291038\n"
     ]
    }
   ],
   "source": [
    "avg_accuracy = []\n",
    "for i in range(0, len(model_names)):\n",
    "    if \"XGBoost_oversampling_\" in model_names[i]:\n",
    "        print(model_scores[i])\n",
    "        avg_accuracy.append(model_scores[i])\n",
    "print(\"avg accuracy of XGBOOST oversampling for all years is\", np.mean(avg_accuracy))"
   ]
  },
  {
   "cell_type": "code",
   "execution_count": null,
   "metadata": {},
   "outputs": [],
   "source": []
  }
 ],
 "metadata": {
  "kernelspec": {
   "display_name": "Python 3 (ipykernel)",
   "language": "python",
   "name": "python3"
  },
  "language_info": {
   "codemirror_mode": {
    "name": "ipython",
    "version": 3
   },
   "file_extension": ".py",
   "mimetype": "text/x-python",
   "name": "python",
   "nbconvert_exporter": "python",
   "pygments_lexer": "ipython3",
   "version": "3.8.10"
  }
 },
 "nbformat": 4,
 "nbformat_minor": 4
}
