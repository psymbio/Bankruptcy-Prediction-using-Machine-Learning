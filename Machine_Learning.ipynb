{
 "cells": [
  {
   "cell_type": "code",
   "execution_count": 1,
   "metadata": {},
   "outputs": [
    {
     "name": "stderr",
     "output_type": "stream",
     "text": [
      "/home/vanilla_skies/.local/lib/python3.8/site-packages/pkg_resources/__init__.py:123: PkgResourcesDeprecationWarning: alpha is an invalid version and will not be supported in a future release\n",
      "  warnings.warn(\n",
      "/home/vanilla_skies/.local/lib/python3.8/site-packages/pkg_resources/__init__.py:123: PkgResourcesDeprecationWarning: 0.1.36ubuntu1 is an invalid version and will not be supported in a future release\n",
      "  warnings.warn(\n",
      "/home/vanilla_skies/.local/lib/python3.8/site-packages/pkg_resources/__init__.py:123: PkgResourcesDeprecationWarning: 0.23ubuntu1 is an invalid version and will not be supported in a future release\n",
      "  warnings.warn(\n"
     ]
    }
   ],
   "source": [
    "import os\n",
    "import string\n",
    "import random\n",
    "\n",
    "import numpy as np\n",
    "import pandas as pd\n",
    "\n",
    "from itertools import zip_longest\n",
    "from collections import Counter\n",
    "\n",
    "import math\n",
    "import json\n",
    "import re\n",
    "import statistics\n",
    "from scipy import stats\n",
    "\n",
    "from imblearn.over_sampling import SMOTE\n",
    "from imblearn.under_sampling import RandomUnderSampler\n",
    "\n",
    "from sklearn.preprocessing import LabelEncoder\n",
    "from sklearn.cluster import KMeans, DBSCAN\n",
    "from sklearn.mixture import GaussianMixture\n",
    "from sklearn.ensemble import RandomForestClassifier\n",
    "from sklearn.tree import DecisionTreeClassifier\n",
    "from sklearn.model_selection import train_test_split\n",
    "from sklearn.metrics import r2_score, classification_report, confusion_matrix, plot_confusion_matrix, roc_curve, auc, roc_auc_score, accuracy_score\n",
    "from sklearn.model_selection import RandomizedSearchCV, KFold, StratifiedKFold, cross_val_score, cross_val_predict\n",
    "import matplotlib.pyplot as plt\n",
    "\n",
    "import xgboost as xgb\n",
    "import lightgbm as lgb\n",
    "import matplotlib.pylab as plt\n",
    "%matplotlib inline\n",
    "from matplotlib.pylab import rcParams\n",
    "rcParams['figure.figsize'] = 12, 7\n",
    "\n",
    "from sklearn import decomposition\n",
    "from sklearn.impute import SimpleImputer\n",
    "from sklearn.preprocessing import StandardScaler\n",
    "from sklearn.decomposition import PCA\n",
    "import seaborn as sns\n",
    "import pickle"
   ]
  },
  {
   "cell_type": "code",
   "execution_count": 2,
   "metadata": {},
   "outputs": [],
   "source": [
    "DATA_PATH = \"bankruptcy/train\"\n",
    "TEST_PATH = \"bankruptcy/sample\""
   ]
  },
  {
   "cell_type": "code",
   "execution_count": 3,
   "metadata": {},
   "outputs": [],
   "source": [
    "# all data files from each path stored in each dictionary\n",
    "def data_reading(PATH):\n",
    "    data_files = {}\n",
    "    \n",
    "    for file_name in os.listdir(PATH):\n",
    "        print(\"Reading file: \", file_name)\n",
    "        \n",
    "        curr_table = pd.read_csv(os.path.join(PATH, file_name), index_col=['Id'], low_memory=False)\n",
    "        curr_table.replace('?', np.nan, inplace = True)\n",
    "        curr_table.iloc[:, :-1] = curr_table.iloc[:, :-1].astype(np.float64)\n",
    "        \n",
    "        # fill missing value with median\n",
    "        imp_mean = SimpleImputer(missing_values=np.nan, strategy='median')\n",
    "        curr_table.loc[:, curr_table.columns!='Bankrupt'] = imp_mean.fit_transform(curr_table.loc[:, curr_table.columns!='Bankrupt'])\n",
    "        \n",
    "        # save\n",
    "        data_files[file_name[:-4]] = curr_table\n",
    "    \n",
    "    print(\"Finished Reading for Folder: \", PATH)\n",
    "    return data_files"
   ]
  },
  {
   "cell_type": "code",
   "execution_count": 4,
   "metadata": {},
   "outputs": [],
   "source": [
    "def drop_numerical_outliers(df, z_thresh=3):\n",
    "    print('Before dropping outliers: ', df.shape)\n",
    "    # Constrains will contain `True` or `False` depending on if it is a value below the threshold.\n",
    "    constrains = df.iloc[:,:-1].select_dtypes(include=[np.number]) \\\n",
    "        .apply(lambda x: np.abs(stats.zscore(x)) < z_thresh) \\\n",
    "        .all(axis=1)\n",
    "    print(constrains)\n",
    "    # Drop (inplace) values set to be rejected\n",
    "    df.drop(df.index[~constrains], inplace=True)\n",
    "    print('After dropping outliers: ', df.shape)\n",
    "    return df"
   ]
  },
  {
   "cell_type": "code",
   "execution_count": 5,
   "metadata": {},
   "outputs": [
    {
     "name": "stdout",
     "output_type": "stream",
     "text": [
      "Reading file:  5th_yr.csv\n",
      "Reading file:  1st_yr.csv\n",
      "Reading file:  4th_yr.csv\n",
      "Reading file:  3rd_yr.csv\n",
      "Reading file:  2nd_yr.csv\n",
      "Finished Reading for Folder:  bankruptcy/train\n",
      "Reading file:  5th_yr.csv\n",
      "Reading file:  1st_yr.csv\n",
      "Reading file:  4th_yr.csv\n",
      "Reading file:  3rd_yr.csv\n",
      "Reading file:  2nd_yr.csv\n",
      "Finished Reading for Folder:  bankruptcy/sample\n"
     ]
    }
   ],
   "source": [
    "train_files = data_reading(DATA_PATH)\n",
    "test_files = data_reading(TEST_PATH)"
   ]
  },
  {
   "cell_type": "code",
   "execution_count": 6,
   "metadata": {},
   "outputs": [],
   "source": [
    "model_names = []\n",
    "model_scores = []"
   ]
  },
  {
   "cell_type": "code",
   "execution_count": 7,
   "metadata": {},
   "outputs": [],
   "source": [
    "def create_training_data(X, y, sampling_technique = 1, test_size = 0.33):\n",
    "    \"\"\"\n",
    "    This creates a training_testing data\n",
    "    Parameters\n",
    "    ----------\n",
    "    sampling_technique: int\n",
    "        sampling_technique = 1 then oversample using SMOTE\n",
    "        sampling_technique = 2 then undersample\n",
    "        sampling_technique = 3 then do nothing\n",
    "    Returns\n",
    "    -------\n",
    "    X, y, X_train, X_test, y_train, y_test : np.ndarray\n",
    "    \"\"\"\n",
    "    X = np.squeeze(X)\n",
    "    y = np.asarray(y)\n",
    "    \n",
    "    if type(y[0]) != int:\n",
    "        print(\"encode labels\")\n",
    "        le = LabelEncoder()    \n",
    "        y = le.fit_transform(y)\n",
    "        #exporting the departure encoder\n",
    "        output = open('label_encoder.pkl', 'wb')\n",
    "        pickle.dump(le, output)\n",
    "        output.close()\n",
    "        \n",
    "    if sampling_technique == 1:\n",
    "        oversample = SMOTE()\n",
    "        X, y = oversample.fit_resample(X, y)\n",
    "    elif sampling_technique == 2:\n",
    "        undersample = RandomUnderSampler()\n",
    "        X, y = undersample.fit_resample(X, y)\n",
    "    else:\n",
    "        pass\n",
    "    counter = Counter(y)\n",
    "    for k, v in counter.items():\n",
    "        per = v / len(y) * 100\n",
    "        print('Class={}, n={} ({})'.format(k, v, per))\n",
    "    print(type(X), X.shape)\n",
    "    X_train, X_test, y_train, y_test = train_test_split(X, y, test_size= test_size, random_state=42, stratify=y)\n",
    "    print(X_train.shape, X_test.shape, y_train.shape, y_test.shape)\n",
    "    return X, y, X_train, X_test, y_train, y_test"
   ]
  },
  {
   "cell_type": "code",
   "execution_count": 8,
   "metadata": {},
   "outputs": [],
   "source": [
    "def eval_model(model, model_name, X, y, X_train, X_test, y_train, y_test, encode = False, cv_10 = True, verbose = False, cv = 10):\n",
    "    \"\"\"\n",
    "    This evaluates a model\n",
    "    Parameters\n",
    "    ----------\n",
    "    model : model\n",
    "    model_name : string\n",
    "    Returns\n",
    "    -------\n",
    "    None\n",
    "    \"\"\"\n",
    "    \n",
    "    pkl_file = open('label_encoder.pkl', 'rb')\n",
    "    label_encoder = pickle.load(pkl_file) \n",
    "    pkl_file.close()\n",
    "    \n",
    "    label_encoder_dict = dict(zip(range(len(label_encoder.classes_)),label_encoder.classes_))\n",
    "\n",
    "    # first 10 fold cross validation\n",
    "    if cv_10 == True:\n",
    "        print('10 FOLD CV')\n",
    "        scores = cross_val_score(model, X, y, cv = cv)\n",
    "        print('all scores: ', scores)\n",
    "        print('scores mean: {} scores median: {}'.format(np.mean(scores), np.median(scores)))\n",
    "    \n",
    "    print('80-20 SPLIT')\n",
    "    model = model.fit(X_train, y_train)\n",
    "    \n",
    "    # global y_test, model_names, model_scores\n",
    "    score_of_the_model = model.score(X_test, y_test)\n",
    "    print('model score: {}'.format(score_of_the_model))\n",
    "    \n",
    "    model_names.append(model_name)\n",
    "    model_scores.append(score_of_the_model)\n",
    "    \n",
    "    y_pred = model.predict(X_test)\n",
    "    if verbose == True:\n",
    "        print('y_tests are: {}'.format(y_test))\n",
    "        print('y_pred are: {}'.format(y_pred))\n",
    "    \n",
    "    if encode == True:\n",
    "        y_test = np.argmax(y_test, axis=1)\n",
    "        y_pred = np.argmax(y_pred, axis=1)\n",
    "    \n",
    "    if verbose == True:\n",
    "        print('first 20 y_test values:  {}'.format(y_test[:20]))\n",
    "        print('first 20 y_pred values: {}'.format(y_pred[:20]))\n",
    "    print('r2 score: {}'.format(r2_score(y_test, y_pred)))\n",
    "    print('classification report: \\n {}'.format(classification_report(y_test, y_pred)))\n",
    "    confusion_matrix_curr = confusion_matrix(y_test, y_pred, labels=np.unique(y))\n",
    "    # plt.imshow(confusion_matrix_curr)\n",
    "    # plt.title('confusion matrix')\n",
    "    # plt.show()\n",
    "    # plt.figure()\n",
    "    \n",
    "    # y_pred_proba = model.predict_proba(X_test)[::,1]\n",
    "    # fpr, tpr, _ = roc_curve(y_test,  y_pred_proba)\n",
    "    \n",
    "    \n",
    "    if encode == False:\n",
    "        plot_confusion_matrix(model, X_test, y_test)  \n",
    "        plt.show()\n",
    "    else:\n",
    "        print('nothing to see here.')\n",
    "    \n",
    "    print(\"model: \" + str(model_name) + \"confusion matrix: \\n\", confusion_matrix_curr)\n",
    "    print(\"model: \" + str(model_name) + \" accuracy: \", accuracy_score(y_test, y_pred))\n",
    "    TN = confusion_matrix_curr[0][0]\n",
    "    FN = confusion_matrix_curr[1][0]\n",
    "    TP = confusion_matrix_curr[1][1]\n",
    "    FP = confusion_matrix_curr[0][1]\n",
    "    \n",
    "    try:\n",
    "        print(\"For model: \" + str(model_name) + \"\\n\")\n",
    "        print('True Negative ',TN, '\\nFalse Negative ', FN, '\\nTrue Positive', TP, '\\nFalse Positive ', FP)\n",
    "        accuracy = (TP+TN)/(TP+TN+FP+FN)\n",
    "        recall = TP/(TP+FN)\n",
    "        precision = TP/(TP+FP)\n",
    "        print('Accuracy:\\t',accuracy)\n",
    "        print('Precision:\\t',precision)\n",
    "        print('Recall:\\t',recall)\n",
    "        model_acc_recall_precision[model_name] = [accuracy, precision, recall]\n",
    "    except:\n",
    "        print(\"accuracy, precision, recall not calculated.\")\n",
    "    return model"
   ]
  },
  {
   "cell_type": "code",
   "execution_count": 9,
   "metadata": {},
   "outputs": [
    {
     "name": "stdout",
     "output_type": "stream",
     "text": [
      "Before dropping outliers:  (4818, 65)\n",
      "Id\n",
      "1188     True\n",
      "1654     True\n",
      "3864     True\n",
      "3578     True\n",
      "2028    False\n",
      "        ...  \n",
      "2337     True\n",
      "2747     True\n",
      "2982     True\n",
      "1974    False\n",
      "1505     True\n",
      "Length: 4818, dtype: bool\n",
      "After dropping outliers:  (4472, 65)\n",
      "encode labels\n",
      "Class=0, n=4212 (50.0)\n",
      "Class=1, n=4212 (50.0)\n",
      "<class 'pandas.core.frame.DataFrame'> (8424, 64)\n",
      "(5896, 64) (2528, 64) (5896,) (2528,)\n"
     ]
    }
   ],
   "source": [
    "year = '5th_yr'\n",
    "data = train_files[year].copy()\n",
    "data = drop_numerical_outliers(data)\n",
    "y = data.loc[:,'Bankrupt']\n",
    "X = data.loc[:, data.columns!='Bankrupt']\n",
    "X, y, X_train, X_test, y_train, y_test = create_training_data(X, y.tolist(), 1, test_size = 0.30)"
   ]
  },
  {
   "cell_type": "code",
   "execution_count": 10,
   "metadata": {},
   "outputs": [
    {
     "name": "stdout",
     "output_type": "stream",
     "text": [
      "10 FOLD CV\n",
      "all scores:  [0.73190985 0.75326216 0.75326216 0.75682088 0.71377672 0.73871734\n",
      " 0.75771971 0.74228029 0.76484561 0.75771971]\n",
      "scores mean: 0.7470314423941189 scores median: 0.7532621589561092\n",
      "80-20 SPLIT\n",
      "model score: 0.7472310126582279\n",
      "r2 score: -0.011075949367088667\n",
      "classification report: \n",
      "               precision    recall  f1-score   support\n",
      "\n",
      "           0       0.69      0.89      0.78      1264\n",
      "           1       0.85      0.60      0.70      1264\n",
      "\n",
      "    accuracy                           0.75      2528\n",
      "   macro avg       0.77      0.75      0.74      2528\n",
      "weighted avg       0.77      0.75      0.74      2528\n",
      "\n"
     ]
    },
    {
     "name": "stderr",
     "output_type": "stream",
     "text": [
      "/home/vanilla_skies/.local/lib/python3.8/site-packages/sklearn/utils/deprecation.py:87: FutureWarning: Function plot_confusion_matrix is deprecated; Function `plot_confusion_matrix` is deprecated in 1.0 and will be removed in 1.2. Use one of the class methods: ConfusionMatrixDisplay.from_predictions or ConfusionMatrixDisplay.from_estimator.\n",
      "  warnings.warn(msg, category=FutureWarning)\n"
     ]
    },
    {
     "data": {
      "image/png": "[encoded data removed]",
      "text/plain": [
       "<Figure size 864x504 with 2 Axes>"
      ]
     },
     "metadata": {
      "needs_background": "light"
     },
     "output_type": "display_data"
    },
    {
     "name": "stdout",
     "output_type": "stream",
     "text": [
      "model: RandomForest_oversamplingconfusion matrix: \n",
      " [[1126  138]\n",
      " [ 501  763]]\n",
      "model: RandomForest_oversampling accuracy:  0.7472310126582279\n",
      "For model: RandomForest_oversampling\n",
      "\n",
      "True Negative  1126 \n",
      "False Negative  501 \n",
      "True Positive 763 \n",
      "False Positive  138\n",
      "Accuracy:\t 0.7472310126582279\n",
      "Precision:\t 0.8468368479467259\n",
      "Recall:\t 0.6036392405063291\n",
      "accuracy, precision, recall not calculated.\n"
     ]
    },
    {
     "data": {
      "text/plain": [
       "RandomForestClassifier(max_depth=2, random_state=0)"
      ]
     },
     "execution_count": 10,
     "metadata": {},
     "output_type": "execute_result"
    }
   ],
   "source": [
    "model = RandomForestClassifier(max_depth=2, random_state=0)\n",
    "eval_model(model, \"RandomForest_oversampling\", X, y, X_train, X_test, y_train, y_test)"
   ]
  },
  {
   "cell_type": "code",
   "execution_count": 11,
   "metadata": {},
   "outputs": [
    {
     "name": "stdout",
     "output_type": "stream",
     "text": [
      "10 FOLD CV\n",
      "all scores:  [0.71293001 0.75207592 0.75682088 0.75088968 0.71496437 0.7304038\n",
      " 0.75653207 0.72327791 0.76484561 0.7672209 ]\n",
      "scores mean: 0.7429961144312671 scores median: 0.7514827995255042\n",
      "80-20 SPLIT\n",
      "model score: 0.7444620253164557\n",
      "r2 score: -0.02215189873417711\n",
      "classification report: \n",
      "               precision    recall  f1-score   support\n",
      "\n",
      "           0       0.68      0.91      0.78      1264\n",
      "           1       0.86      0.58      0.69      1264\n",
      "\n",
      "    accuracy                           0.74      2528\n",
      "   macro avg       0.77      0.74      0.74      2528\n",
      "weighted avg       0.77      0.74      0.74      2528\n",
      "\n"
     ]
    },
    {
     "name": "stderr",
     "output_type": "stream",
     "text": [
      "/home/vanilla_skies/.local/lib/python3.8/site-packages/sklearn/utils/deprecation.py:87: FutureWarning: Function plot_confusion_matrix is deprecated; Function `plot_confusion_matrix` is deprecated in 1.0 and will be removed in 1.2. Use one of the class methods: ConfusionMatrixDisplay.from_predictions or ConfusionMatrixDisplay.from_estimator.\n",
      "  warnings.warn(msg, category=FutureWarning)\n"
     ]
    },
    {
     "data": {
      "image/png": "[encoded data removed]",
      "text/plain": [
       "<Figure size 864x504 with 2 Axes>"
      ]
     },
     "metadata": {
      "needs_background": "light"
     },
     "output_type": "display_data"
    },
    {
     "name": "stdout",
     "output_type": "stream",
     "text": [
      "model: DecisionTree_oversamplingconfusion matrix: \n",
      " [[1147  117]\n",
      " [ 529  735]]\n",
      "model: DecisionTree_oversampling accuracy:  0.7444620253164557\n",
      "For model: DecisionTree_oversampling\n",
      "\n",
      "True Negative  1147 \n",
      "False Negative  529 \n",
      "True Positive 735 \n",
      "False Positive  117\n",
      "Accuracy:\t 0.7444620253164557\n",
      "Precision:\t 0.8626760563380281\n",
      "Recall:\t 0.5814873417721519\n",
      "accuracy, precision, recall not calculated.\n"
     ]
    },
    {
     "data": {
      "text/plain": [
       "DecisionTreeClassifier(max_depth=2, random_state=0)"
      ]
     },
     "execution_count": 11,
     "metadata": {},
     "output_type": "execute_result"
    }
   ],
   "source": [
    "model = DecisionTreeClassifier(random_state=0, max_depth=2)\n",
    "eval_model(model, \"DecisionTree_oversampling\", X, y, X_train, X_test, y_train, y_test)"
   ]
  },
  {
   "cell_type": "code",
   "execution_count": 12,
   "metadata": {},
   "outputs": [
    {
     "name": "stdout",
     "output_type": "stream",
     "text": [
      "10 FOLD CV\n",
      "all scores:  [0.84934757 0.90391459 0.90747331 0.90510083 0.86698337 0.88836105\n",
      " 0.9216152  0.86342043 0.90142518 0.90498812]\n",
      "scores mean: 0.8912629648101029 scores median: 0.9026698844472997\n",
      "80-20 SPLIT\n",
      "model score: 0.8916139240506329\n",
      "r2 score: 0.5664556962025317\n",
      "classification report: \n",
      "               precision    recall  f1-score   support\n",
      "\n",
      "           0       0.90      0.88      0.89      1264\n",
      "           1       0.88      0.90      0.89      1264\n",
      "\n",
      "    accuracy                           0.89      2528\n",
      "   macro avg       0.89      0.89      0.89      2528\n",
      "weighted avg       0.89      0.89      0.89      2528\n",
      "\n"
     ]
    },
    {
     "name": "stderr",
     "output_type": "stream",
     "text": [
      "/home/vanilla_skies/.local/lib/python3.8/site-packages/sklearn/utils/deprecation.py:87: FutureWarning: Function plot_confusion_matrix is deprecated; Function `plot_confusion_matrix` is deprecated in 1.0 and will be removed in 1.2. Use one of the class methods: ConfusionMatrixDisplay.from_predictions or ConfusionMatrixDisplay.from_estimator.\n",
      "  warnings.warn(msg, category=FutureWarning)\n"
     ]
    },
    {
     "data": {
      "image/png": "[encoded data removed]",
      "text/plain": [
       "<Figure size 864x504 with 2 Axes>"
      ]
     },
     "metadata": {
      "needs_background": "light"
     },
     "output_type": "display_data"
    },
    {
     "name": "stdout",
     "output_type": "stream",
     "text": [
      "model: LGBM_oversamplingconfusion matrix: \n",
      " [[1113  151]\n",
      " [ 123 1141]]\n",
      "model: LGBM_oversampling accuracy:  0.8916139240506329\n",
      "For model: LGBM_oversampling\n",
      "\n",
      "True Negative  1113 \n",
      "False Negative  123 \n",
      "True Positive 1141 \n",
      "False Positive  151\n",
      "Accuracy:\t 0.8916139240506329\n",
      "Precision:\t 0.8831269349845201\n",
      "Recall:\t 0.9026898734177216\n",
      "accuracy, precision, recall not calculated.\n"
     ]
    },
    {
     "data": {
      "text/plain": [
       "LGBMClassifier(max_depth=2, random_state=0)"
      ]
     },
     "execution_count": 12,
     "metadata": {},
     "output_type": "execute_result"
    }
   ],
   "source": [
    "model =  lgb.LGBMClassifier(random_state=0, max_depth=2)\n",
    "eval_model(model, \"LGBM_oversampling\", X, y, X_train, X_test, y_train, y_test)"
   ]
  },
  {
   "cell_type": "code",
   "execution_count": 13,
   "metadata": {},
   "outputs": [
    {
     "name": "stdout",
     "output_type": "stream",
     "text": [
      "10 FOLD CV\n",
      "all scores:  [0.90272835 0.94661922 0.95492289 0.94543298 0.9216152  0.94299287\n",
      " 0.95130641 0.92042755 0.93942993 0.95724466]\n",
      "scores mean: 0.9382720067173285 scores median: 0.9442129257853554\n",
      "80-20 SPLIT\n",
      "model score: 0.9343354430379747\n",
      "r2 score: 0.7373417721518987\n",
      "classification report: \n",
      "               precision    recall  f1-score   support\n",
      "\n",
      "           0       0.94      0.92      0.93      1264\n",
      "           1       0.93      0.94      0.94      1264\n",
      "\n",
      "    accuracy                           0.93      2528\n",
      "   macro avg       0.93      0.93      0.93      2528\n",
      "weighted avg       0.93      0.93      0.93      2528\n",
      "\n"
     ]
    },
    {
     "name": "stderr",
     "output_type": "stream",
     "text": [
      "/home/vanilla_skies/.local/lib/python3.8/site-packages/sklearn/utils/deprecation.py:87: FutureWarning: Function plot_confusion_matrix is deprecated; Function `plot_confusion_matrix` is deprecated in 1.0 and will be removed in 1.2. Use one of the class methods: ConfusionMatrixDisplay.from_predictions or ConfusionMatrixDisplay.from_estimator.\n",
      "  warnings.warn(msg, category=FutureWarning)\n"
     ]
    },
    {
     "data": {
      "image/png": "[encoded data removed]",
      "text/plain": [
       "<Figure size 864x504 with 2 Axes>"
      ]
     },
     "metadata": {
      "needs_background": "light"
     },
     "output_type": "display_data"
    },
    {
     "name": "stdout",
     "output_type": "stream",
     "text": [
      "model: XGBoost_oversamplingconfusion matrix: \n",
      " [[1168   96]\n",
      " [  70 1194]]\n",
      "model: XGBoost_oversampling accuracy:  0.9343354430379747\n",
      "For model: XGBoost_oversampling\n",
      "\n",
      "True Negative  1168 \n",
      "False Negative  70 \n",
      "True Positive 1194 \n",
      "False Positive  96\n",
      "Accuracy:\t 0.9343354430379747\n",
      "Precision:\t 0.9255813953488372\n",
      "Recall:\t 0.944620253164557\n",
      "accuracy, precision, recall not calculated.\n"
     ]
    },
    {
     "data": {
      "text/plain": [
       "XGBClassifier(base_score=0.5, booster='gbtree', callbacks=None,\n",
       "              colsample_bylevel=1, colsample_bynode=1, colsample_bytree=1,\n",
       "              early_stopping_rounds=None, enable_categorical=False,\n",
       "              eval_metric=None, gamma=0, gpu_id=-1, grow_policy='depthwise',\n",
       "              importance_type=None, interaction_constraints='',\n",
       "              learning_rate=0.300000012, max_bin=256, max_cat_to_onehot=4,\n",
       "              max_delta_step=0, max_depth=2, max_leaves=0, min_child_weight=1,\n",
       "              missing=nan, monotone_constraints='()', n_estimators=100,\n",
       "              n_jobs=0, num_parallel_tree=1, predictor='auto', random_state=0,\n",
       "              reg_alpha=0, reg_lambda=1, ...)"
      ]
     },
     "execution_count": 13,
     "metadata": {},
     "output_type": "execute_result"
    }
   ],
   "source": [
    "model =  xgb.XGBClassifier(random_state=0, max_depth=2)\n",
    "eval_model(model, \"XGBoost_oversampling\", X, y, X_train, X_test, y_train, y_test)"
   ]
  },
  {
   "cell_type": "code",
   "execution_count": 14,
   "metadata": {},
   "outputs": [
    {
     "data": {
      "text/plain": [
       "<AxesSubplot:xlabel='model_names'>"
      ]
     },
     "execution_count": 14,
     "metadata": {},
     "output_type": "execute_result"
    },
    {
     "data": {
      "image/png": "[encoded data removed]",
      "text/plain": [
       "<Figure size 864x504 with 1 Axes>"
      ]
     },
     "metadata": {
      "needs_background": "light"
     },
     "output_type": "display_data"
    }
   ],
   "source": [
    "results_dict = {\"model_names\": model_names, \"model_scores\": model_scores}\n",
    "results_df = pd.DataFrame.from_dict(results_dict)\n",
    "results_df = results_df.set_index('model_names')\n",
    "results_df.plot.bar()"
   ]
  },
  {
   "cell_type": "code",
   "execution_count": 15,
   "metadata": {},
   "outputs": [
    {
     "data": {
      "text/plain": [
       "XGBClassifier(base_score=0.5, booster='gbtree', callbacks=None,\n",
       "              colsample_bylevel=1, colsample_bynode=1, colsample_bytree=1,\n",
       "              early_stopping_rounds=None, enable_categorical=False,\n",
       "              eval_metric=None, gamma=0, gpu_id=-1, grow_policy='depthwise',\n",
       "              importance_type=None, interaction_constraints='',\n",
       "              learning_rate=0.300000012, max_bin=256, max_cat_to_onehot=4,\n",
       "              max_delta_step=0, max_depth=2, max_leaves=0, min_child_weight=1,\n",
       "              missing=nan, monotone_constraints='()', n_estimators=100,\n",
       "              n_jobs=0, num_parallel_tree=1, predictor='auto', random_state=0,\n",
       "              reg_alpha=0, reg_lambda=1, ...)"
      ]
     },
     "execution_count": 15,
     "metadata": {},
     "output_type": "execute_result"
    }
   ],
   "source": [
    "model = xgb.XGBClassifier(random_state=0, max_depth=2)\n",
    "model.fit(X, y)"
   ]
  },
  {
   "cell_type": "code",
   "execution_count": 16,
   "metadata": {},
   "outputs": [],
   "source": [
    "test_data = test_files[year].copy()"
   ]
  },
  {
   "cell_type": "code",
   "execution_count": 17,
   "metadata": {},
   "outputs": [
    {
     "data": {
      "text/html": [
       "<div>\n",
       "<style scoped>\n",
       "    .dataframe tbody tr th:only-of-type {\n",
       "        vertical-align: middle;\n",
       "    }\n",
       "\n",
       "    .dataframe tbody tr th {\n",
       "        vertical-align: top;\n",
       "    }\n",
       "\n",
       "    .dataframe thead th {\n",
       "        text-align: right;\n",
       "    }\n",
       "</style>\n",
       "<table border=\"1\" class=\"dataframe\">\n",
       "  <thead>\n",
       "    <tr style=\"text-align: right;\">\n",
       "      <th></th>\n",
       "      <th>X1</th>\n",
       "      <th>X2</th>\n",
       "      <th>X3</th>\n",
       "      <th>X4</th>\n",
       "      <th>X5</th>\n",
       "      <th>X6</th>\n",
       "      <th>X7</th>\n",
       "      <th>X8</th>\n",
       "      <th>X9</th>\n",
       "      <th>X10</th>\n",
       "      <th>...</th>\n",
       "      <th>X55</th>\n",
       "      <th>X56</th>\n",
       "      <th>X57</th>\n",
       "      <th>X58</th>\n",
       "      <th>X59</th>\n",
       "      <th>X60</th>\n",
       "      <th>X61</th>\n",
       "      <th>X62</th>\n",
       "      <th>X63</th>\n",
       "      <th>X64</th>\n",
       "    </tr>\n",
       "    <tr>\n",
       "      <th>Id</th>\n",
       "      <th></th>\n",
       "      <th></th>\n",
       "      <th></th>\n",
       "      <th></th>\n",
       "      <th></th>\n",
       "      <th></th>\n",
       "      <th></th>\n",
       "      <th></th>\n",
       "      <th></th>\n",
       "      <th></th>\n",
       "      <th></th>\n",
       "      <th></th>\n",
       "      <th></th>\n",
       "      <th></th>\n",
       "      <th></th>\n",
       "      <th></th>\n",
       "      <th></th>\n",
       "      <th></th>\n",
       "      <th></th>\n",
       "      <th></th>\n",
       "      <th></th>\n",
       "    </tr>\n",
       "  </thead>\n",
       "  <tbody>\n",
       "    <tr>\n",
       "      <th>5412</th>\n",
       "      <td>0.124220</td>\n",
       "      <td>0.57105</td>\n",
       "      <td>0.422250</td>\n",
       "      <td>1.73940</td>\n",
       "      <td>98.68200</td>\n",
       "      <td>0.00000</td>\n",
       "      <td>0.124220</td>\n",
       "      <td>0.75115</td>\n",
       "      <td>1.58620</td>\n",
       "      <td>0.42895</td>\n",
       "      <td>...</td>\n",
       "      <td>2334.10</td>\n",
       "      <td>0.448830</td>\n",
       "      <td>0.289600</td>\n",
       "      <td>0.55738</td>\n",
       "      <td>0.000000</td>\n",
       "      <td>7.1541</td>\n",
       "      <td>2.4049</td>\n",
       "      <td>131.400</td>\n",
       "      <td>2.7777</td>\n",
       "      <td>236.81000</td>\n",
       "    </tr>\n",
       "    <tr>\n",
       "      <th>1370</th>\n",
       "      <td>-0.192810</td>\n",
       "      <td>0.53936</td>\n",
       "      <td>0.198450</td>\n",
       "      <td>1.69270</td>\n",
       "      <td>17.62000</td>\n",
       "      <td>0.00000</td>\n",
       "      <td>-0.192810</td>\n",
       "      <td>0.85406</td>\n",
       "      <td>1.89090</td>\n",
       "      <td>0.46064</td>\n",
       "      <td>...</td>\n",
       "      <td>253.35</td>\n",
       "      <td>0.105060</td>\n",
       "      <td>-0.418560</td>\n",
       "      <td>0.89571</td>\n",
       "      <td>0.136430</td>\n",
       "      <td>17.5300</td>\n",
       "      <td>5.4019</td>\n",
       "      <td>55.299</td>\n",
       "      <td>6.6005</td>\n",
       "      <td>3.67120</td>\n",
       "    </tr>\n",
       "    <tr>\n",
       "      <th>4605</th>\n",
       "      <td>0.183170</td>\n",
       "      <td>0.42320</td>\n",
       "      <td>-0.168500</td>\n",
       "      <td>0.60184</td>\n",
       "      <td>-11.72000</td>\n",
       "      <td>0.93289</td>\n",
       "      <td>0.183170</td>\n",
       "      <td>1.35640</td>\n",
       "      <td>1.02340</td>\n",
       "      <td>0.57404</td>\n",
       "      <td>...</td>\n",
       "      <td>-553.14</td>\n",
       "      <td>0.022846</td>\n",
       "      <td>0.319090</td>\n",
       "      <td>0.97715</td>\n",
       "      <td>0.000000</td>\n",
       "      <td>106.7000</td>\n",
       "      <td>160.9500</td>\n",
       "      <td>19.449</td>\n",
       "      <td>18.7670</td>\n",
       "      <td>10.65700</td>\n",
       "    </tr>\n",
       "    <tr>\n",
       "      <th>3256</th>\n",
       "      <td>0.119100</td>\n",
       "      <td>0.12672</td>\n",
       "      <td>0.511250</td>\n",
       "      <td>5.03460</td>\n",
       "      <td>152.78000</td>\n",
       "      <td>0.36525</td>\n",
       "      <td>0.151130</td>\n",
       "      <td>6.03030</td>\n",
       "      <td>1.00770</td>\n",
       "      <td>0.76413</td>\n",
       "      <td>...</td>\n",
       "      <td>8930.10</td>\n",
       "      <td>0.007606</td>\n",
       "      <td>0.155870</td>\n",
       "      <td>0.99239</td>\n",
       "      <td>0.000000</td>\n",
       "      <td>10.7940</td>\n",
       "      <td>3.3616</td>\n",
       "      <td>44.307</td>\n",
       "      <td>8.2380</td>\n",
       "      <td>2.88340</td>\n",
       "    </tr>\n",
       "    <tr>\n",
       "      <th>4585</th>\n",
       "      <td>0.135630</td>\n",
       "      <td>0.46398</td>\n",
       "      <td>0.566460</td>\n",
       "      <td>2.32630</td>\n",
       "      <td>20.46000</td>\n",
       "      <td>0.00000</td>\n",
       "      <td>0.135630</td>\n",
       "      <td>1.15530</td>\n",
       "      <td>5.53440</td>\n",
       "      <td>0.53602</td>\n",
       "      <td>...</td>\n",
       "      <td>1729.70</td>\n",
       "      <td>0.037904</td>\n",
       "      <td>0.253020</td>\n",
       "      <td>0.97556</td>\n",
       "      <td>0.000000</td>\n",
       "      <td>22.6540</td>\n",
       "      <td>7.8523</td>\n",
       "      <td>28.168</td>\n",
       "      <td>12.9580</td>\n",
       "      <td>858.18000</td>\n",
       "    </tr>\n",
       "    <tr>\n",
       "      <th>...</th>\n",
       "      <td>...</td>\n",
       "      <td>...</td>\n",
       "      <td>...</td>\n",
       "      <td>...</td>\n",
       "      <td>...</td>\n",
       "      <td>...</td>\n",
       "      <td>...</td>\n",
       "      <td>...</td>\n",
       "      <td>...</td>\n",
       "      <td>...</td>\n",
       "      <td>...</td>\n",
       "      <td>...</td>\n",
       "      <td>...</td>\n",
       "      <td>...</td>\n",
       "      <td>...</td>\n",
       "      <td>...</td>\n",
       "      <td>...</td>\n",
       "      <td>...</td>\n",
       "      <td>...</td>\n",
       "      <td>...</td>\n",
       "      <td>...</td>\n",
       "    </tr>\n",
       "    <tr>\n",
       "      <th>2830</th>\n",
       "      <td>0.062417</td>\n",
       "      <td>0.44645</td>\n",
       "      <td>0.271640</td>\n",
       "      <td>1.96830</td>\n",
       "      <td>-21.00500</td>\n",
       "      <td>0.00000</td>\n",
       "      <td>0.078770</td>\n",
       "      <td>1.23990</td>\n",
       "      <td>1.01620</td>\n",
       "      <td>0.55355</td>\n",
       "      <td>...</td>\n",
       "      <td>15075.00</td>\n",
       "      <td>0.095759</td>\n",
       "      <td>0.112760</td>\n",
       "      <td>0.92348</td>\n",
       "      <td>0.159450</td>\n",
       "      <td>8.2652</td>\n",
       "      <td>6.2052</td>\n",
       "      <td>100.770</td>\n",
       "      <td>3.6223</td>\n",
       "      <td>2.26910</td>\n",
       "    </tr>\n",
       "    <tr>\n",
       "      <th>4291</th>\n",
       "      <td>-0.010877</td>\n",
       "      <td>0.32091</td>\n",
       "      <td>-0.043237</td>\n",
       "      <td>0.86497</td>\n",
       "      <td>-64.42400</td>\n",
       "      <td>0.00000</td>\n",
       "      <td>-0.010877</td>\n",
       "      <td>2.11610</td>\n",
       "      <td>0.56048</td>\n",
       "      <td>0.67909</td>\n",
       "      <td>...</td>\n",
       "      <td>-421.59</td>\n",
       "      <td>0.014477</td>\n",
       "      <td>-0.016017</td>\n",
       "      <td>1.01930</td>\n",
       "      <td>0.000000</td>\n",
       "      <td>13.2400</td>\n",
       "      <td>4.8617</td>\n",
       "      <td>208.530</td>\n",
       "      <td>1.7503</td>\n",
       "      <td>0.77518</td>\n",
       "    </tr>\n",
       "    <tr>\n",
       "      <th>4781</th>\n",
       "      <td>0.001756</td>\n",
       "      <td>0.75316</td>\n",
       "      <td>0.201630</td>\n",
       "      <td>1.27600</td>\n",
       "      <td>4.82740</td>\n",
       "      <td>0.00000</td>\n",
       "      <td>0.002700</td>\n",
       "      <td>0.32774</td>\n",
       "      <td>2.21010</td>\n",
       "      <td>0.24684</td>\n",
       "      <td>...</td>\n",
       "      <td>1628.00</td>\n",
       "      <td>0.091515</td>\n",
       "      <td>0.007115</td>\n",
       "      <td>0.91346</td>\n",
       "      <td>0.052388</td>\n",
       "      <td>15.2640</td>\n",
       "      <td>3.0147</td>\n",
       "      <td>120.640</td>\n",
       "      <td>3.0254</td>\n",
       "      <td>32.55800</td>\n",
       "    </tr>\n",
       "    <tr>\n",
       "      <th>3046</th>\n",
       "      <td>0.294390</td>\n",
       "      <td>0.57127</td>\n",
       "      <td>0.068046</td>\n",
       "      <td>1.12020</td>\n",
       "      <td>0.49422</td>\n",
       "      <td>0.51728</td>\n",
       "      <td>0.294390</td>\n",
       "      <td>0.70034</td>\n",
       "      <td>1.15800</td>\n",
       "      <td>0.40008</td>\n",
       "      <td>...</td>\n",
       "      <td>2473.00</td>\n",
       "      <td>0.136470</td>\n",
       "      <td>0.735830</td>\n",
       "      <td>0.86353</td>\n",
       "      <td>0.012714</td>\n",
       "      <td>44.4280</td>\n",
       "      <td>9.2947</td>\n",
       "      <td>97.646</td>\n",
       "      <td>3.7380</td>\n",
       "      <td>5.78600</td>\n",
       "    </tr>\n",
       "    <tr>\n",
       "      <th>4137</th>\n",
       "      <td>0.059982</td>\n",
       "      <td>0.10252</td>\n",
       "      <td>0.375910</td>\n",
       "      <td>4.66680</td>\n",
       "      <td>207.17000</td>\n",
       "      <td>1.87240</td>\n",
       "      <td>0.076252</td>\n",
       "      <td>8.27460</td>\n",
       "      <td>1.11510</td>\n",
       "      <td>0.84830</td>\n",
       "      <td>...</td>\n",
       "      <td>33358.00</td>\n",
       "      <td>0.103220</td>\n",
       "      <td>0.070708</td>\n",
       "      <td>0.89678</td>\n",
       "      <td>0.000000</td>\n",
       "      <td>13.0370</td>\n",
       "      <td>2.8732</td>\n",
       "      <td>54.068</td>\n",
       "      <td>6.7507</td>\n",
       "      <td>1.32690</td>\n",
       "    </tr>\n",
       "  </tbody>\n",
       "</table>\n",
       "<p>482 rows × 64 columns</p>\n",
       "</div>"
      ],
      "text/plain": [
       "            X1       X2        X3       X4         X5       X6        X7  \\\n",
       "Id                                                                         \n",
       "5412  0.124220  0.57105  0.422250  1.73940   98.68200  0.00000  0.124220   \n",
       "1370 -0.192810  0.53936  0.198450  1.69270   17.62000  0.00000 -0.192810   \n",
       "4605  0.183170  0.42320 -0.168500  0.60184  -11.72000  0.93289  0.183170   \n",
       "3256  0.119100  0.12672  0.511250  5.03460  152.78000  0.36525  0.151130   \n",
       "4585  0.135630  0.46398  0.566460  2.32630   20.46000  0.00000  0.135630   \n",
       "...        ...      ...       ...      ...        ...      ...       ...   \n",
       "2830  0.062417  0.44645  0.271640  1.96830  -21.00500  0.00000  0.078770   \n",
       "4291 -0.010877  0.32091 -0.043237  0.86497  -64.42400  0.00000 -0.010877   \n",
       "4781  0.001756  0.75316  0.201630  1.27600    4.82740  0.00000  0.002700   \n",
       "3046  0.294390  0.57127  0.068046  1.12020    0.49422  0.51728  0.294390   \n",
       "4137  0.059982  0.10252  0.375910  4.66680  207.17000  1.87240  0.076252   \n",
       "\n",
       "           X8       X9      X10  ...       X55       X56       X57      X58  \\\n",
       "Id                               ...                                          \n",
       "5412  0.75115  1.58620  0.42895  ...   2334.10  0.448830  0.289600  0.55738   \n",
       "1370  0.85406  1.89090  0.46064  ...    253.35  0.105060 -0.418560  0.89571   \n",
       "4605  1.35640  1.02340  0.57404  ...   -553.14  0.022846  0.319090  0.97715   \n",
       "3256  6.03030  1.00770  0.76413  ...   8930.10  0.007606  0.155870  0.99239   \n",
       "4585  1.15530  5.53440  0.53602  ...   1729.70  0.037904  0.253020  0.97556   \n",
       "...       ...      ...      ...  ...       ...       ...       ...      ...   \n",
       "2830  1.23990  1.01620  0.55355  ...  15075.00  0.095759  0.112760  0.92348   \n",
       "4291  2.11610  0.56048  0.67909  ...   -421.59  0.014477 -0.016017  1.01930   \n",
       "4781  0.32774  2.21010  0.24684  ...   1628.00  0.091515  0.007115  0.91346   \n",
       "3046  0.70034  1.15800  0.40008  ...   2473.00  0.136470  0.735830  0.86353   \n",
       "4137  8.27460  1.11510  0.84830  ...  33358.00  0.103220  0.070708  0.89678   \n",
       "\n",
       "           X59       X60       X61      X62      X63        X64  \n",
       "Id                                                               \n",
       "5412  0.000000    7.1541    2.4049  131.400   2.7777  236.81000  \n",
       "1370  0.136430   17.5300    5.4019   55.299   6.6005    3.67120  \n",
       "4605  0.000000  106.7000  160.9500   19.449  18.7670   10.65700  \n",
       "3256  0.000000   10.7940    3.3616   44.307   8.2380    2.88340  \n",
       "4585  0.000000   22.6540    7.8523   28.168  12.9580  858.18000  \n",
       "...        ...       ...       ...      ...      ...        ...  \n",
       "2830  0.159450    8.2652    6.2052  100.770   3.6223    2.26910  \n",
       "4291  0.000000   13.2400    4.8617  208.530   1.7503    0.77518  \n",
       "4781  0.052388   15.2640    3.0147  120.640   3.0254   32.55800  \n",
       "3046  0.012714   44.4280    9.2947   97.646   3.7380    5.78600  \n",
       "4137  0.000000   13.0370    2.8732   54.068   6.7507    1.32690  \n",
       "\n",
       "[482 rows x 64 columns]"
      ]
     },
     "execution_count": 17,
     "metadata": {},
     "output_type": "execute_result"
    }
   ],
   "source": [
    "test_data"
   ]
  },
  {
   "cell_type": "code",
   "execution_count": 18,
   "metadata": {},
   "outputs": [
    {
     "data": {
      "text/plain": [
       "array([0, 0, 0, 0, 0, 0, 0, 0, 0, 0, 0, 0, 0, 0, 1, 0, 0, 0, 0, 0, 1, 0,\n",
       "       0, 0, 0, 0, 1, 0, 0, 0, 0, 0, 0, 1, 0, 0, 0, 1, 0, 0, 0, 0, 1, 0,\n",
       "       0, 0, 0, 0, 0, 0, 0, 0, 0, 0, 0, 0, 0, 0, 0, 0, 0, 0, 0, 0, 1, 0,\n",
       "       0, 0, 0, 1, 0, 0, 0, 0, 0, 0, 0, 0, 1, 0, 0, 0, 0, 0, 0, 0, 0, 0,\n",
       "       0, 0, 0, 0, 0, 0, 0, 0, 0, 0, 0, 1, 0, 0, 0, 0, 0, 0, 0, 0, 0, 0,\n",
       "       1, 0, 1, 0, 0, 0, 0, 0, 0, 1, 0, 0, 1, 0, 1, 0, 0, 0, 0, 0, 1, 0,\n",
       "       0, 0, 0, 1, 0, 0, 0, 0, 0, 0, 0, 0, 0, 0, 0, 0, 0, 1, 0, 0, 0, 0,\n",
       "       0, 0, 0, 0, 0, 0, 0, 1, 1, 0, 0, 0, 1, 0, 0, 0, 0, 0, 0, 0, 1, 0,\n",
       "       1, 0, 0, 0, 0, 0, 0, 0, 0, 0, 1, 0, 0, 0, 0, 0, 0, 0, 0, 0, 0, 0,\n",
       "       0, 0, 0, 0, 0, 0, 0, 0, 0, 0, 1, 1, 0, 0, 0, 0, 0, 0, 0, 0, 0, 1,\n",
       "       0, 0, 0, 0, 0, 0, 0, 0, 0, 0, 0, 1, 0, 1, 0, 1, 0, 0, 0, 0, 0, 0,\n",
       "       0, 0, 0, 0, 0, 0, 0, 0, 0, 0, 0, 0, 0, 1, 0, 0, 0, 0, 0, 0, 0, 0,\n",
       "       0, 0, 0, 0, 0, 0, 0, 0, 0, 0, 0, 0, 0, 0, 0, 0, 0, 0, 0, 0, 0, 0,\n",
       "       0, 0, 0, 0, 0, 0, 1, 1, 0, 0, 0, 0, 0, 0, 0, 0, 0, 0, 0, 0, 0, 0,\n",
       "       0, 0, 0, 0, 0, 0, 0, 0, 0, 0, 0, 0, 0, 0, 0, 0, 0, 0, 0, 0, 0, 0,\n",
       "       0, 0, 0, 0, 0, 0, 0, 0, 0, 0, 0, 0, 0, 0, 0, 0, 0, 0, 0, 0, 0, 0,\n",
       "       0, 0, 1, 1, 0, 0, 0, 0, 0, 1, 0, 1, 0, 0, 0, 0, 0, 0, 0, 0, 0, 0,\n",
       "       0, 1, 0, 0, 0, 0, 0, 0, 0, 0, 0, 0, 0, 0, 0, 0, 0, 0, 0, 0, 0, 0,\n",
       "       1, 0, 0, 0, 0, 0, 0, 0, 0, 0, 1, 1, 0, 0, 0, 0, 1, 0, 0, 0, 0, 1,\n",
       "       1, 0, 0, 0, 1, 0, 0, 0, 0, 1, 0, 0, 1, 0, 0, 0, 0, 1, 0, 0, 0, 1,\n",
       "       0, 0, 1, 0, 0, 1, 0, 0, 0, 0, 0, 0, 0, 0, 0, 1, 0, 0, 0, 0, 0, 0,\n",
       "       0, 0, 0, 0, 0, 0, 0, 0, 0, 0, 0, 0, 0, 1, 1, 0, 0, 1, 0, 0])"
      ]
     },
     "execution_count": 18,
     "metadata": {},
     "output_type": "execute_result"
    }
   ],
   "source": [
    "model.predict(test_data)"
   ]
  },
  {
   "cell_type": "code",
   "execution_count": null,
   "metadata": {},
   "outputs": [],
   "source": []
  }
 ],
 "metadata": {
  "kernelspec": {
   "display_name": "Python 3 (ipykernel)",
   "language": "python",
   "name": "python3"
  },
  "language_info": {
   "codemirror_mode": {
    "name": "ipython",
    "version": 3
   },
   "file_extension": ".py",
   "mimetype": "text/x-python",
   "name": "python",
   "nbconvert_exporter": "python",
   "pygments_lexer": "ipython3",
   "version": "3.8.10"
  }
 },
 "nbformat": 4,
 "nbformat_minor": 4
}
