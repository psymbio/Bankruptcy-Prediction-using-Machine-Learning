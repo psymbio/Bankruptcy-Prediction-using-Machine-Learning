{
 "cells": [
  {
   "cell_type": "code",
   "execution_count": 1,
   "metadata": {},
   "outputs": [
    {
     "name": "stderr",
     "output_type": "stream",
     "text": [
      "/home/vanilla_skies/.local/lib/python3.8/site-packages/pkg_resources/__init__.py:123: PkgResourcesDeprecationWarning: alpha is an invalid version and will not be supported in a future release\n",
      "  warnings.warn(\n",
      "/home/vanilla_skies/.local/lib/python3.8/site-packages/pkg_resources/__init__.py:123: PkgResourcesDeprecationWarning: 0.1.36ubuntu1 is an invalid version and will not be supported in a future release\n",
      "  warnings.warn(\n",
      "/home/vanilla_skies/.local/lib/python3.8/site-packages/pkg_resources/__init__.py:123: PkgResourcesDeprecationWarning: 0.23ubuntu1 is an invalid version and will not be supported in a future release\n",
      "  warnings.warn(\n"
     ]
    }
   ],
   "source": [
    "import os\n",
    "import string\n",
    "import random\n",
    "\n",
    "import numpy as np\n",
    "import pandas as pd\n",
    "\n",
    "from itertools import zip_longest\n",
    "from collections import Counter\n",
    "\n",
    "import math\n",
    "import json\n",
    "import re\n",
    "import statistics\n",
    "from scipy import stats\n",
    "\n",
    "from imblearn.over_sampling import SMOTE\n",
    "from imblearn.under_sampling import RandomUnderSampler\n",
    "\n",
    "from sklearn.preprocessing import LabelEncoder\n",
    "from sklearn.cluster import KMeans, DBSCAN\n",
    "from sklearn.mixture import GaussianMixture\n",
    "from sklearn.ensemble import RandomForestClassifier\n",
    "from sklearn.tree import DecisionTreeClassifier\n",
    "from sklearn.model_selection import train_test_split\n",
    "from sklearn.metrics import r2_score, classification_report, confusion_matrix, plot_confusion_matrix, roc_curve, auc, roc_auc_score, accuracy_score\n",
    "from sklearn.model_selection import RandomizedSearchCV, KFold, StratifiedKFold, cross_val_score, cross_val_predict\n",
    "import matplotlib.pyplot as plt\n",
    "\n",
    "import xgboost as xgb\n",
    "import lightgbm as lgb\n",
    "import matplotlib.pylab as plt\n",
    "%matplotlib inline\n",
    "from matplotlib.pylab import rcParams\n",
    "rcParams['figure.figsize'] = 12, 7\n",
    "\n",
    "from sklearn import decomposition\n",
    "from sklearn.impute import SimpleImputer\n",
    "from sklearn.preprocessing import StandardScaler\n",
    "from sklearn.decomposition import PCA\n",
    "import seaborn as sns\n",
    "import pickle\n",
    "from pprint import pprint"
   ]
  },
  {
   "cell_type": "code",
   "execution_count": 2,
   "metadata": {},
   "outputs": [],
   "source": [
    "DATA_PATH = \"bankruptcy/train\"\n",
    "TEST_PATH = \"bankruptcy/sample\""
   ]
  },
  {
   "cell_type": "code",
   "execution_count": 3,
   "metadata": {},
   "outputs": [],
   "source": [
    "# all data files from each path stored in each dictionary\n",
    "def data_reading(PATH):\n",
    "    data_files = {}\n",
    "    \n",
    "    for file_name in os.listdir(PATH):\n",
    "        print(\"Reading file: \", file_name)\n",
    "        \n",
    "        curr_table = pd.read_csv(os.path.join(PATH, file_name), index_col=['Id'], low_memory=False)\n",
    "        curr_table.replace('?', np.nan, inplace = True)\n",
    "        curr_table.iloc[:, :-1] = curr_table.iloc[:, :-1].astype(np.float64)\n",
    "        \n",
    "        # fill missing value with median\n",
    "        imp_mean = SimpleImputer(missing_values=np.nan, strategy='median')\n",
    "        curr_table.loc[:, curr_table.columns!='Bankrupt'] = imp_mean.fit_transform(curr_table.loc[:, curr_table.columns!='Bankrupt'])\n",
    "        \n",
    "        # save\n",
    "        data_files[file_name[:-4]] = curr_table\n",
    "    \n",
    "    print(\"Finished Reading for Folder: \", PATH)\n",
    "    return data_files"
   ]
  },
  {
   "cell_type": "code",
   "execution_count": 4,
   "metadata": {},
   "outputs": [],
   "source": [
    "def drop_numerical_outliers(df, z_thresh=3):\n",
    "    print('Before dropping outliers: ', df.shape)\n",
    "    # Constrains will contain `True` or `False` depending on if it is a value below the threshold.\n",
    "    constrains = df.iloc[:,:-1].select_dtypes(include=[np.number]) \\\n",
    "        .apply(lambda x: np.abs(stats.zscore(x)) < z_thresh) \\\n",
    "        .all(axis=1)\n",
    "    print(constrains)\n",
    "    # Drop (inplace) values set to be rejected\n",
    "    df.drop(df.index[~constrains], inplace=True)\n",
    "    print('After dropping outliers: ', df.shape)\n",
    "    return df"
   ]
  },
  {
   "cell_type": "code",
   "execution_count": 5,
   "metadata": {},
   "outputs": [
    {
     "name": "stdout",
     "output_type": "stream",
     "text": [
      "Reading file:  5th_yr.csv\n",
      "Reading file:  1st_yr.csv\n",
      "Reading file:  4th_yr.csv\n",
      "Reading file:  3rd_yr.csv\n",
      "Reading file:  2nd_yr.csv\n",
      "Finished Reading for Folder:  bankruptcy/train\n",
      "Reading file:  5th_yr.csv\n",
      "Reading file:  1st_yr.csv\n",
      "Reading file:  4th_yr.csv\n",
      "Reading file:  3rd_yr.csv\n",
      "Reading file:  2nd_yr.csv\n",
      "Finished Reading for Folder:  bankruptcy/sample\n"
     ]
    }
   ],
   "source": [
    "train_files = data_reading(DATA_PATH)\n",
    "test_files = data_reading(TEST_PATH)"
   ]
  },
  {
   "cell_type": "markdown",
   "metadata": {},
   "source": [
    "# Training different models"
   ]
  },
  {
   "cell_type": "code",
   "execution_count": 6,
   "metadata": {},
   "outputs": [],
   "source": [
    "model_names = []\n",
    "model_scores = []"
   ]
  },
  {
   "cell_type": "code",
   "execution_count": 7,
   "metadata": {},
   "outputs": [],
   "source": [
    "def create_training_data(X, y, sampling_technique = 1, test_size = 0.33):\n",
    "    \"\"\"\n",
    "    This creates a training_testing data\n",
    "    Parameters\n",
    "    ----------\n",
    "    sampling_technique: int\n",
    "        sampling_technique = 1 then oversample using SMOTE\n",
    "        sampling_technique = 2 then undersample\n",
    "        sampling_technique = 3 then do nothing\n",
    "    Returns\n",
    "    -------\n",
    "    X, y, X_train, X_test, y_train, y_test : np.ndarray\n",
    "    \"\"\"\n",
    "    X = np.squeeze(X)\n",
    "    y = np.asarray(y)\n",
    "    \n",
    "    if type(y[0]) != int:\n",
    "        print(\"encode labels\")\n",
    "        le = LabelEncoder()    \n",
    "        y = le.fit_transform(y)\n",
    "        #exporting the departure encoder\n",
    "        output = open('label_encoder.pkl', 'wb')\n",
    "        pickle.dump(le, output)\n",
    "        output.close()\n",
    "        \n",
    "    if sampling_technique == 1:\n",
    "        oversample = SMOTE()\n",
    "        X, y = oversample.fit_resample(X, y)\n",
    "    elif sampling_technique == 2:\n",
    "        undersample = RandomUnderSampler()\n",
    "        X, y = undersample.fit_resample(X, y)\n",
    "    else:\n",
    "        pass\n",
    "    counter = Counter(y)\n",
    "    for k, v in counter.items():\n",
    "        per = v / len(y) * 100\n",
    "        print('Class={}, n={} ({})'.format(k, v, per))\n",
    "    print(type(X), X.shape)\n",
    "    X_train, X_test, y_train, y_test = train_test_split(X, y, test_size= test_size, random_state=42, stratify=y)\n",
    "    print(X_train.shape, X_test.shape, y_train.shape, y_test.shape)\n",
    "    return X, y, X_train, X_test, y_train, y_test"
   ]
  },
  {
   "cell_type": "code",
   "execution_count": 8,
   "metadata": {},
   "outputs": [],
   "source": [
    "def eval_model(model, model_name, X, y, X_train, X_test, y_train, y_test, encode = False, cv_10 = True, verbose = False, cv = 10):\n",
    "    \"\"\"\n",
    "    This evaluates a model\n",
    "    Parameters\n",
    "    ----------\n",
    "    model : model\n",
    "    model_name : string\n",
    "    Returns\n",
    "    -------\n",
    "    None\n",
    "    \"\"\"\n",
    "    \n",
    "    pkl_file = open('label_encoder.pkl', 'rb')\n",
    "    label_encoder = pickle.load(pkl_file) \n",
    "    pkl_file.close()\n",
    "    \n",
    "    label_encoder_dict = dict(zip(range(len(label_encoder.classes_)),label_encoder.classes_))\n",
    "\n",
    "    # first 10 fold cross validation\n",
    "    if cv_10 == True:\n",
    "        print('10 FOLD CV')\n",
    "        scores = cross_val_score(model, X, y, cv = cv)\n",
    "        print('all scores: ', scores)\n",
    "        print('scores mean: {} scores median: {}'.format(np.mean(scores), np.median(scores)))\n",
    "    \n",
    "    print('80-20 SPLIT')\n",
    "    model = model.fit(X_train, y_train)\n",
    "    \n",
    "    # global y_test, model_names, model_scores\n",
    "    score_of_the_model = model.score(X_test, y_test)\n",
    "    print('model score: {}'.format(score_of_the_model))\n",
    "    \n",
    "    model_names.append(model_name)\n",
    "    model_scores.append(score_of_the_model)\n",
    "    \n",
    "    y_pred = model.predict(X_test)\n",
    "    if verbose == True:\n",
    "        print('y_tests are: {}'.format(y_test))\n",
    "        print('y_pred are: {}'.format(y_pred))\n",
    "    \n",
    "    if encode == True:\n",
    "        y_test = np.argmax(y_test, axis=1)\n",
    "        y_pred = np.argmax(y_pred, axis=1)\n",
    "    \n",
    "    if verbose == True:\n",
    "        print('first 20 y_test values:  {}'.format(y_test[:20]))\n",
    "        print('first 20 y_pred values: {}'.format(y_pred[:20]))\n",
    "    print('r2 score: {}'.format(r2_score(y_test, y_pred)))\n",
    "    print('classification report: \\n {}'.format(classification_report(y_test, y_pred)))\n",
    "    confusion_matrix_curr = confusion_matrix(y_test, y_pred, labels=np.unique(y))\n",
    "    # plt.imshow(confusion_matrix_curr)\n",
    "    # plt.title('confusion matrix')\n",
    "    # plt.show()\n",
    "    # plt.figure()\n",
    "    \n",
    "    # y_pred_proba = model.predict_proba(X_test)[::,1]\n",
    "    # fpr, tpr, _ = roc_curve(y_test,  y_pred_proba)\n",
    "    \n",
    "    \n",
    "    if encode == False:\n",
    "        plot_confusion_matrix(model, X_test, y_test)  \n",
    "        plt.show()\n",
    "    else:\n",
    "        print('nothing to see here.')\n",
    "    \n",
    "    print(\"model: \" + str(model_name) + \"confusion matrix: \\n\", confusion_matrix_curr)\n",
    "    print(\"model: \" + str(model_name) + \" accuracy: \", accuracy_score(y_test, y_pred))\n",
    "    TN = confusion_matrix_curr[0][0]\n",
    "    FN = confusion_matrix_curr[1][0]\n",
    "    TP = confusion_matrix_curr[1][1]\n",
    "    FP = confusion_matrix_curr[0][1]\n",
    "    \n",
    "    try:\n",
    "        print(\"For model: \" + str(model_name) + \"\\n\")\n",
    "        print('True Negative ',TN, '\\nFalse Negative ', FN, '\\nTrue Positive', TP, '\\nFalse Positive ', FP)\n",
    "        accuracy = (TP+TN)/(TP+TN+FP+FN)\n",
    "        recall = TP/(TP+FN)\n",
    "        precision = TP/(TP+FP)\n",
    "        print('Accuracy:\\t',accuracy)\n",
    "        print('Precision:\\t',precision)\n",
    "        print('Recall:\\t',recall)\n",
    "        model_acc_recall_precision[model_name] = [accuracy, precision, recall]\n",
    "    except:\n",
    "        print(\"accuracy, precision, recall not calculated.\")\n",
    "    return model"
   ]
  },
  {
   "cell_type": "code",
   "execution_count": 9,
   "metadata": {},
   "outputs": [
    {
     "name": "stdout",
     "output_type": "stream",
     "text": [
      "Before dropping outliers:  (4818, 65)\n",
      "Id\n",
      "1188     True\n",
      "1654     True\n",
      "3864     True\n",
      "3578     True\n",
      "2028    False\n",
      "        ...  \n",
      "2337     True\n",
      "2747     True\n",
      "2982     True\n",
      "1974    False\n",
      "1505     True\n",
      "Length: 4818, dtype: bool\n",
      "After dropping outliers:  (4472, 65)\n",
      "encode labels\n",
      "Class=0, n=4212 (50.0)\n",
      "Class=1, n=4212 (50.0)\n",
      "<class 'pandas.core.frame.DataFrame'> (8424, 64)\n",
      "(5896, 64) (2528, 64) (5896,) (2528,)\n"
     ]
    }
   ],
   "source": [
    "year = '5th_yr'\n",
    "data = train_files[year].copy()\n",
    "data = drop_numerical_outliers(data)\n",
    "y = data.loc[:,'Bankrupt']\n",
    "X = data.loc[:, data.columns!='Bankrupt']\n",
    "X, y, X_train, X_test, y_train, y_test = create_training_data(X, y.tolist(), 1, test_size = 0.30)"
   ]
  },
  {
   "cell_type": "code",
   "execution_count": 10,
   "metadata": {},
   "outputs": [
    {
     "name": "stdout",
     "output_type": "stream",
     "text": [
      "10 FOLD CV\n",
      "all scores:  [0.73072361 0.77935943 0.76156584 0.74614472 0.71852732 0.73634204\n",
      " 0.75534442 0.72327791 0.74346793 0.74821853]\n",
      "scores mean: 0.7442971741574459 scores median: 0.7448063273626879\n",
      "80-20 SPLIT\n",
      "model score: 0.7503955696202531\n",
      "r2 score: 0.0015822784810126667\n",
      "classification report: \n",
      "               precision    recall  f1-score   support\n",
      "\n",
      "           0       0.69      0.90      0.78      1264\n",
      "           1       0.85      0.60      0.71      1264\n",
      "\n",
      "    accuracy                           0.75      2528\n",
      "   macro avg       0.77      0.75      0.74      2528\n",
      "weighted avg       0.77      0.75      0.74      2528\n",
      "\n"
     ]
    },
    {
     "name": "stderr",
     "output_type": "stream",
     "text": [
      "/home/vanilla_skies/.local/lib/python3.8/site-packages/sklearn/utils/deprecation.py:87: FutureWarning: Function plot_confusion_matrix is deprecated; Function `plot_confusion_matrix` is deprecated in 1.0 and will be removed in 1.2. Use one of the class methods: ConfusionMatrixDisplay.from_predictions or ConfusionMatrixDisplay.from_estimator.\n",
      "  warnings.warn(msg, category=FutureWarning)\n"
     ]
    },
    {
     "data": {
      "image/png": "[encoded data removed]",
      "text/plain": [
       "<Figure size 864x504 with 2 Axes>"
      ]
     },
     "metadata": {
      "needs_background": "light"
     },
     "output_type": "display_data"
    },
    {
     "name": "stdout",
     "output_type": "stream",
     "text": [
      "model: RandomForest_oversamplingconfusion matrix: \n",
      " [[1133  131]\n",
      " [ 500  764]]\n",
      "model: RandomForest_oversampling accuracy:  0.7503955696202531\n",
      "For model: RandomForest_oversampling\n",
      "\n",
      "True Negative  1133 \n",
      "False Negative  500 \n",
      "True Positive 764 \n",
      "False Positive  131\n",
      "Accuracy:\t 0.7503955696202531\n",
      "Precision:\t 0.8536312849162011\n",
      "Recall:\t 0.6044303797468354\n",
      "accuracy, precision, recall not calculated.\n"
     ]
    },
    {
     "data": {
      "text/plain": [
       "RandomForestClassifier(max_depth=2, random_state=0)"
      ]
     },
     "execution_count": 10,
     "metadata": {},
     "output_type": "execute_result"
    }
   ],
   "source": [
    "model = RandomForestClassifier(max_depth=2, random_state=0)\n",
    "eval_model(model, \"RandomForest_oversampling\", X, y, X_train, X_test, y_train, y_test)"
   ]
  },
  {
   "cell_type": "code",
   "execution_count": 11,
   "metadata": {},
   "outputs": [
    {
     "name": "stdout",
     "output_type": "stream",
     "text": [
      "10 FOLD CV\n",
      "all scores:  [0.70937129 0.77461447 0.75563464 0.74970344 0.7280285  0.72327791\n",
      " 0.75059382 0.71852732 0.73871734 0.73871734]\n",
      "scores mean: 0.7387186076195468 scores median: 0.7387173396674585\n",
      "80-20 SPLIT\n",
      "model score: 0.740506329113924\n",
      "r2 score: -0.03797468354430378\n",
      "classification report: \n",
      "               precision    recall  f1-score   support\n",
      "\n",
      "           0       0.67      0.93      0.78      1264\n",
      "           1       0.89      0.55      0.68      1264\n",
      "\n",
      "    accuracy                           0.74      2528\n",
      "   macro avg       0.78      0.74      0.73      2528\n",
      "weighted avg       0.78      0.74      0.73      2528\n",
      "\n"
     ]
    },
    {
     "name": "stderr",
     "output_type": "stream",
     "text": [
      "/home/vanilla_skies/.local/lib/python3.8/site-packages/sklearn/utils/deprecation.py:87: FutureWarning: Function plot_confusion_matrix is deprecated; Function `plot_confusion_matrix` is deprecated in 1.0 and will be removed in 1.2. Use one of the class methods: ConfusionMatrixDisplay.from_predictions or ConfusionMatrixDisplay.from_estimator.\n",
      "  warnings.warn(msg, category=FutureWarning)\n"
     ]
    },
    {
     "data": {
      "image/png": "[encoded data removed]",
      "text/plain": [
       "<Figure size 864x504 with 2 Axes>"
      ]
     },
     "metadata": {
      "needs_background": "light"
     },
     "output_type": "display_data"
    },
    {
     "name": "stdout",
     "output_type": "stream",
     "text": [
      "model: DecisionTree_oversamplingconfusion matrix: \n",
      " [[1177   87]\n",
      " [ 569  695]]\n",
      "model: DecisionTree_oversampling accuracy:  0.740506329113924\n",
      "For model: DecisionTree_oversampling\n",
      "\n",
      "True Negative  1177 \n",
      "False Negative  569 \n",
      "True Positive 695 \n",
      "False Positive  87\n",
      "Accuracy:\t 0.740506329113924\n",
      "Precision:\t 0.8887468030690537\n",
      "Recall:\t 0.5498417721518988\n",
      "accuracy, precision, recall not calculated.\n"
     ]
    },
    {
     "data": {
      "text/plain": [
       "DecisionTreeClassifier(max_depth=2, random_state=0)"
      ]
     },
     "execution_count": 11,
     "metadata": {},
     "output_type": "execute_result"
    }
   ],
   "source": [
    "model = DecisionTreeClassifier(random_state=0, max_depth=2)\n",
    "eval_model(model, \"DecisionTree_oversampling\", X, y, X_train, X_test, y_train, y_test)"
   ]
  },
  {
   "cell_type": "code",
   "execution_count": 12,
   "metadata": {},
   "outputs": [
    {
     "name": "stdout",
     "output_type": "stream",
     "text": [
      "10 FOLD CV\n",
      "all scores:  [0.85172005 0.90035587 0.90865955 0.89798339 0.86817102 0.88954869\n",
      " 0.90855107 0.88004751 0.88361045 0.8847981 ]\n",
      "scores mean: 0.8873445702065071 scores median: 0.8871733966745843\n",
      "80-20 SPLIT\n",
      "model score: 0.8801424050632911\n",
      "r2 score: 0.5205696202531646\n",
      "classification report: \n",
      "               precision    recall  f1-score   support\n",
      "\n",
      "           0       0.88      0.88      0.88      1264\n",
      "           1       0.88      0.88      0.88      1264\n",
      "\n",
      "    accuracy                           0.88      2528\n",
      "   macro avg       0.88      0.88      0.88      2528\n",
      "weighted avg       0.88      0.88      0.88      2528\n",
      "\n"
     ]
    },
    {
     "name": "stderr",
     "output_type": "stream",
     "text": [
      "/home/vanilla_skies/.local/lib/python3.8/site-packages/sklearn/utils/deprecation.py:87: FutureWarning: Function plot_confusion_matrix is deprecated; Function `plot_confusion_matrix` is deprecated in 1.0 and will be removed in 1.2. Use one of the class methods: ConfusionMatrixDisplay.from_predictions or ConfusionMatrixDisplay.from_estimator.\n",
      "  warnings.warn(msg, category=FutureWarning)\n"
     ]
    },
    {
     "data": {
      "image/png": "[encoded data removed]",
      "text/plain": [
       "<Figure size 864x504 with 2 Axes>"
      ]
     },
     "metadata": {
      "needs_background": "light"
     },
     "output_type": "display_data"
    },
    {
     "name": "stdout",
     "output_type": "stream",
     "text": [
      "model: LGBM_oversamplingconfusion matrix: \n",
      " [[1107  157]\n",
      " [ 146 1118]]\n",
      "model: LGBM_oversampling accuracy:  0.8801424050632911\n",
      "For model: LGBM_oversampling\n",
      "\n",
      "True Negative  1107 \n",
      "False Negative  146 \n",
      "True Positive 1118 \n",
      "False Positive  157\n",
      "Accuracy:\t 0.8801424050632911\n",
      "Precision:\t 0.8768627450980392\n",
      "Recall:\t 0.884493670886076\n",
      "accuracy, precision, recall not calculated.\n"
     ]
    },
    {
     "data": {
      "text/plain": [
       "LGBMClassifier(max_depth=2, random_state=0)"
      ]
     },
     "execution_count": 12,
     "metadata": {},
     "output_type": "execute_result"
    }
   ],
   "source": [
    "model =  lgb.LGBMClassifier(random_state=0, max_depth=2)\n",
    "eval_model(model, \"LGBM_oversampling\", X, y, X_train, X_test, y_train, y_test)"
   ]
  },
  {
   "cell_type": "code",
   "execution_count": 13,
   "metadata": {},
   "outputs": [
    {
     "name": "stdout",
     "output_type": "stream",
     "text": [
      "10 FOLD CV\n",
      "all scores:  [0.91459075 0.95255042 0.95966785 0.95017794 0.9263658  0.94893112\n",
      " 0.95011876 0.92992874 0.93586698 0.95249406]\n",
      "scores mean: 0.9420692414547075 scores median: 0.9495249406175772\n",
      "80-20 SPLIT\n",
      "model score: 0.9331487341772152\n",
      "r2 score: 0.7325949367088608\n",
      "classification report: \n",
      "               precision    recall  f1-score   support\n",
      "\n",
      "           0       0.94      0.92      0.93      1264\n",
      "           1       0.92      0.95      0.93      1264\n",
      "\n",
      "    accuracy                           0.93      2528\n",
      "   macro avg       0.93      0.93      0.93      2528\n",
      "weighted avg       0.93      0.93      0.93      2528\n",
      "\n"
     ]
    },
    {
     "name": "stderr",
     "output_type": "stream",
     "text": [
      "/home/vanilla_skies/.local/lib/python3.8/site-packages/sklearn/utils/deprecation.py:87: FutureWarning: Function plot_confusion_matrix is deprecated; Function `plot_confusion_matrix` is deprecated in 1.0 and will be removed in 1.2. Use one of the class methods: ConfusionMatrixDisplay.from_predictions or ConfusionMatrixDisplay.from_estimator.\n",
      "  warnings.warn(msg, category=FutureWarning)\n"
     ]
    },
    {
     "data": {
      "image/png": "[encoded data removed]",
      "text/plain": [
       "<Figure size 864x504 with 2 Axes>"
      ]
     },
     "metadata": {
      "needs_background": "light"
     },
     "output_type": "display_data"
    },
    {
     "name": "stdout",
     "output_type": "stream",
     "text": [
      "model: XGBoost_oversamplingconfusion matrix: \n",
      " [[1164  100]\n",
      " [  69 1195]]\n",
      "model: XGBoost_oversampling accuracy:  0.9331487341772152\n",
      "For model: XGBoost_oversampling\n",
      "\n",
      "True Negative  1164 \n",
      "False Negative  69 \n",
      "True Positive 1195 \n",
      "False Positive  100\n",
      "Accuracy:\t 0.9331487341772152\n",
      "Precision:\t 0.9227799227799228\n",
      "Recall:\t 0.9454113924050633\n",
      "accuracy, precision, recall not calculated.\n"
     ]
    },
    {
     "data": {
      "text/plain": [
       "XGBClassifier(base_score=0.5, booster='gbtree', callbacks=None,\n",
       "              colsample_bylevel=1, colsample_bynode=1, colsample_bytree=1,\n",
       "              early_stopping_rounds=None, enable_categorical=False,\n",
       "              eval_metric=None, gamma=0, gpu_id=-1, grow_policy='depthwise',\n",
       "              importance_type=None, interaction_constraints='',\n",
       "              learning_rate=0.300000012, max_bin=256, max_cat_to_onehot=4,\n",
       "              max_delta_step=0, max_depth=2, max_leaves=0, min_child_weight=1,\n",
       "              missing=nan, monotone_constraints='()', n_estimators=100,\n",
       "              n_jobs=0, num_parallel_tree=1, predictor='auto', random_state=0,\n",
       "              reg_alpha=0, reg_lambda=1, ...)"
      ]
     },
     "execution_count": 13,
     "metadata": {},
     "output_type": "execute_result"
    }
   ],
   "source": [
    "model =  xgb.XGBClassifier(random_state=0, max_depth=2)\n",
    "eval_model(model, \"XGBoost_oversampling\", X, y, X_train, X_test, y_train, y_test)"
   ]
  },
  {
   "cell_type": "code",
   "execution_count": 14,
   "metadata": {},
   "outputs": [
    {
     "data": {
      "text/plain": [
       "<AxesSubplot:xlabel='model_names'>"
      ]
     },
     "execution_count": 14,
     "metadata": {},
     "output_type": "execute_result"
    },
    {
     "data": {
      "image/png": "[encoded data removed]",
      "text/plain": [
       "<Figure size 864x504 with 1 Axes>"
      ]
     },
     "metadata": {
      "needs_background": "light"
     },
     "output_type": "display_data"
    }
   ],
   "source": [
    "results_dict = {\"model_names\": model_names, \"model_scores\": model_scores}\n",
    "results_df = pd.DataFrame.from_dict(results_dict)\n",
    "results_df = results_df.set_index('model_names')\n",
    "results_df.plot.bar()"
   ]
  },
  {
   "cell_type": "code",
   "execution_count": 15,
   "metadata": {},
   "outputs": [
    {
     "data": {
      "text/plain": [
       "XGBClassifier(base_score=0.5, booster='gbtree', callbacks=None,\n",
       "              colsample_bylevel=1, colsample_bynode=1, colsample_bytree=1,\n",
       "              early_stopping_rounds=None, enable_categorical=False,\n",
       "              eval_metric=None, gamma=0, gpu_id=-1, grow_policy='depthwise',\n",
       "              importance_type=None, interaction_constraints='',\n",
       "              learning_rate=0.300000012, max_bin=256, max_cat_to_onehot=4,\n",
       "              max_delta_step=0, max_depth=2, max_leaves=0, min_child_weight=1,\n",
       "              missing=nan, monotone_constraints='()', n_estimators=100,\n",
       "              n_jobs=0, num_parallel_tree=1, predictor='auto', random_state=0,\n",
       "              reg_alpha=0, reg_lambda=1, ...)"
      ]
     },
     "execution_count": 15,
     "metadata": {},
     "output_type": "execute_result"
    }
   ],
   "source": [
    "model_classifier = xgb.XGBClassifier(random_state=0, max_depth=2)\n",
    "model_classifier.fit(X, y)"
   ]
  },
  {
   "cell_type": "code",
   "execution_count": 16,
   "metadata": {},
   "outputs": [],
   "source": [
    "test_data = test_files[year].copy()"
   ]
  },
  {
   "cell_type": "code",
   "execution_count": 17,
   "metadata": {},
   "outputs": [
    {
     "data": {
      "text/plain": [
       "array([0, 0, 0, 0, 0, 0, 0, 0, 0, 0, 0, 0, 0, 0, 1, 0, 0, 0, 0, 0, 1, 0,\n",
       "       0, 1, 0, 0, 1, 0, 0, 0, 0, 0, 0, 0, 0, 0, 0, 0, 0, 0, 0, 0, 0, 0,\n",
       "       0, 0, 0, 0, 0, 0, 0, 0, 0, 0, 0, 0, 0, 0, 0, 0, 0, 0, 0, 0, 1, 0,\n",
       "       0, 0, 0, 1, 1, 0, 0, 0, 0, 0, 0, 0, 0, 0, 0, 0, 0, 0, 0, 0, 0, 0,\n",
       "       0, 0, 0, 0, 0, 0, 0, 0, 0, 0, 0, 1, 0, 0, 0, 0, 0, 0, 0, 0, 0, 0,\n",
       "       1, 0, 1, 0, 0, 0, 0, 0, 0, 1, 0, 0, 0, 0, 1, 1, 0, 0, 0, 0, 1, 0,\n",
       "       0, 0, 0, 1, 0, 0, 0, 0, 0, 0, 0, 0, 0, 0, 0, 0, 0, 0, 0, 0, 0, 0,\n",
       "       0, 0, 0, 0, 0, 1, 0, 1, 1, 0, 0, 0, 1, 0, 0, 0, 0, 0, 0, 0, 1, 0,\n",
       "       1, 0, 0, 0, 0, 0, 0, 0, 0, 0, 1, 0, 0, 0, 0, 0, 0, 0, 0, 0, 0, 0,\n",
       "       0, 1, 0, 0, 0, 0, 0, 1, 0, 0, 1, 1, 0, 0, 0, 0, 0, 0, 0, 0, 0, 0,\n",
       "       0, 0, 0, 0, 0, 0, 0, 0, 0, 0, 0, 1, 0, 0, 0, 1, 0, 0, 0, 0, 0, 0,\n",
       "       0, 0, 0, 0, 0, 0, 0, 0, 0, 0, 0, 0, 0, 1, 0, 0, 0, 0, 0, 0, 0, 0,\n",
       "       0, 0, 0, 0, 0, 0, 0, 0, 0, 0, 0, 0, 0, 0, 0, 0, 0, 0, 0, 0, 1, 0,\n",
       "       0, 0, 0, 0, 0, 0, 1, 1, 0, 0, 0, 0, 0, 1, 0, 0, 0, 0, 0, 0, 0, 0,\n",
       "       0, 0, 0, 0, 0, 0, 0, 0, 0, 0, 0, 0, 0, 0, 0, 0, 0, 0, 0, 0, 0, 0,\n",
       "       0, 0, 0, 0, 0, 0, 0, 0, 1, 0, 0, 0, 0, 0, 0, 0, 0, 0, 0, 0, 0, 0,\n",
       "       0, 0, 1, 1, 0, 0, 0, 0, 0, 1, 0, 1, 0, 0, 0, 0, 0, 0, 0, 0, 0, 0,\n",
       "       0, 1, 0, 0, 0, 0, 0, 0, 0, 0, 0, 0, 0, 0, 0, 0, 0, 0, 0, 0, 0, 0,\n",
       "       1, 0, 0, 0, 0, 0, 0, 0, 0, 0, 0, 1, 0, 0, 0, 0, 1, 0, 0, 0, 0, 1,\n",
       "       1, 0, 0, 0, 1, 0, 0, 0, 0, 1, 0, 0, 1, 0, 0, 0, 0, 1, 0, 0, 0, 0,\n",
       "       0, 0, 1, 0, 0, 0, 0, 0, 0, 0, 0, 0, 0, 0, 0, 1, 0, 0, 0, 0, 0, 0,\n",
       "       0, 0, 0, 0, 0, 0, 0, 0, 0, 0, 0, 0, 0, 1, 0, 0, 0, 1, 0, 0])"
      ]
     },
     "execution_count": 17,
     "metadata": {},
     "output_type": "execute_result"
    }
   ],
   "source": [
    "model_classifier.predict(test_data)"
   ]
  },
  {
   "cell_type": "markdown",
   "metadata": {},
   "source": [
    "# Create a model that shows how close a bank is to Bankruptcy"
   ]
  },
  {
   "cell_type": "code",
   "execution_count": 18,
   "metadata": {},
   "outputs": [
    {
     "data": {
      "text/plain": [
       "XGBRegressor(base_score=0.5, booster='gbtree', callbacks=None,\n",
       "             colsample_bylevel=1, colsample_bynode=1, colsample_bytree=1,\n",
       "             early_stopping_rounds=None, enable_categorical=False,\n",
       "             eval_metric=None, gamma=0, gpu_id=-1, grow_policy='depthwise',\n",
       "             importance_type=None, interaction_constraints='',\n",
       "             learning_rate=0.300000012, max_bin=256, max_cat_to_onehot=4,\n",
       "             max_delta_step=0, max_depth=2, max_leaves=0, min_child_weight=1,\n",
       "             missing=nan, monotone_constraints='()', n_estimators=100, n_jobs=0,\n",
       "             num_parallel_tree=1, predictor='auto', random_state=0, reg_alpha=0,\n",
       "             reg_lambda=1, ...)"
      ]
     },
     "execution_count": 18,
     "metadata": {},
     "output_type": "execute_result"
    }
   ],
   "source": [
    "model_regressor = xgb.XGBRegressor(random_state=0, max_depth=2)\n",
    "model_regressor.fit(X, y)"
   ]
  },
  {
   "cell_type": "code",
   "execution_count": 21,
   "metadata": {},
   "outputs": [],
   "source": [
    "def normalize(arr, t_min, t_max):\n",
    "    norm_arr = []\n",
    "    diff = t_max - t_min\n",
    "    diff_arr = max(arr) - min(arr)\n",
    "    for i in arr:\n",
    "        temp = (((i - min(arr))*diff)/diff_arr) + t_min\n",
    "        norm_arr.append(temp)\n",
    "    return norm_arr\n",
    "\n",
    "normalized_results = np.array(normalize(model_regressor.predict(test_data), 0, 1))\n",
    "normalized_results = normalized_results * 100"
   ]
  },
  {
   "cell_type": "code",
   "execution_count": 22,
   "metadata": {},
   "outputs": [
    {
     "name": "stdout",
     "output_type": "stream",
     "text": [
      "[ 87.88063679  85.30099068  84.25122765  63.2372365   79.95495255\n",
      "  70.83657943  77.63687684  96.08184386  80.36305459  74.62919919\n",
      "  85.52353689  61.83229032  55.20200212  71.04797968  75.60140231\n",
      "  68.94469241  97.69384292  50.00403653  67.25145661  86.3620329\n",
      "  75.6778787   69.92829905  61.40160328  63.41370237  66.69692506\n",
      "  73.09260189  69.88488753  77.32725004  60.03627633  52.27936237\n",
      "  57.46199449  75.89490078  62.99206088  69.5300996   59.30744149\n",
      "  86.85835233  84.0682385   56.2035844   67.30076528  85.17245244\n",
      "  86.91640902  74.87185253  81.55987326  81.80911649  95.60733676\n",
      "  87.78921327  73.53788526  85.42075426 100.          58.09632402\n",
      "  72.00606163  73.38639344]\n"
     ]
    }
   ],
   "source": [
    "bankrupt_index = np.where(model_classifier.predict(test_data) == 1)\n",
    "print(normalized_results[bankrupt_index])"
   ]
  },
  {
   "cell_type": "code",
   "execution_count": null,
   "metadata": {},
   "outputs": [],
   "source": []
  }
 ],
 "metadata": {
  "kernelspec": {
   "display_name": "Python 3 (ipykernel)",
   "language": "python",
   "name": "python3"
  },
  "language_info": {
   "codemirror_mode": {
    "name": "ipython",
    "version": 3
   },
   "file_extension": ".py",
   "mimetype": "text/x-python",
   "name": "python",
   "nbconvert_exporter": "python",
   "pygments_lexer": "ipython3",
   "version": "3.8.10"
  }
 },
 "nbformat": 4,
 "nbformat_minor": 4
}
